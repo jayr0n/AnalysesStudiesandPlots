{
 "cells": [
  {
   "cell_type": "markdown",
   "id": "5b8caf90-b712-4f82-b532-064d69c14805",
   "metadata": {},
   "source": [
    "# type of datas and tools for date and time"
   ]
  },
  {
   "cell_type": "code",
   "execution_count": 1,
   "id": "9ac1f098-84a4-48aa-a475-9f9e32f80e43",
   "metadata": {},
   "outputs": [],
   "source": [
    "from datetime import datetime\n",
    "import pandas as pd"
   ]
  },
  {
   "cell_type": "code",
   "execution_count": 2,
   "id": "84111ce1-1242-46cd-a0cb-9928668b8365",
   "metadata": {},
   "outputs": [
    {
     "data": {
      "text/plain": [
       "datetime.datetime(2024, 1, 5, 20, 34, 46, 991743)"
      ]
     },
     "execution_count": 2,
     "metadata": {},
     "output_type": "execute_result"
    }
   ],
   "source": [
    "now = datetime.now()\n",
    "\n",
    "now"
   ]
  },
  {
   "cell_type": "code",
   "execution_count": 3,
   "id": "0c3c54eb-afb5-4877-826c-34251ee9a705",
   "metadata": {},
   "outputs": [
    {
     "data": {
      "text/plain": [
       "(2024, 1, 5)"
      ]
     },
     "execution_count": 3,
     "metadata": {},
     "output_type": "execute_result"
    }
   ],
   "source": [
    "now.year, now.month, now.day"
   ]
  },
  {
   "cell_type": "code",
   "execution_count": 4,
   "id": "cd1147da-e45a-4d00-b304-61a66cdf81ab",
   "metadata": {},
   "outputs": [],
   "source": [
    "delta = datetime(2011, 1, 7) - datetime(2008, 6, 24, 8, 15)"
   ]
  },
  {
   "cell_type": "code",
   "execution_count": 5,
   "id": "2251d43d-5f3f-44d5-bd64-b1d9a756232c",
   "metadata": {},
   "outputs": [
    {
     "data": {
      "text/plain": [
       "datetime.timedelta(days=926, seconds=56700)"
      ]
     },
     "execution_count": 5,
     "metadata": {},
     "output_type": "execute_result"
    }
   ],
   "source": [
    "delta"
   ]
  },
  {
   "cell_type": "code",
   "execution_count": 6,
   "id": "5d24d5da-dc08-4423-bd9a-6753b3263489",
   "metadata": {},
   "outputs": [
    {
     "data": {
      "text/plain": [
       "926"
      ]
     },
     "execution_count": 6,
     "metadata": {},
     "output_type": "execute_result"
    }
   ],
   "source": [
    "delta.days"
   ]
  },
  {
   "cell_type": "code",
   "execution_count": 7,
   "id": "d7c282e8-6921-4c96-9c63-46bde3671ed9",
   "metadata": {},
   "outputs": [
    {
     "data": {
      "text/plain": [
       "56700"
      ]
     },
     "execution_count": 7,
     "metadata": {},
     "output_type": "execute_result"
    }
   ],
   "source": [
    "delta.seconds"
   ]
  },
  {
   "cell_type": "markdown",
   "id": "08560792-b697-49b0-b0ab-d3ebd2e2e5c0",
   "metadata": {},
   "source": [
    "### we can do sum, mult or sub from datetime"
   ]
  },
  {
   "cell_type": "code",
   "execution_count": 8,
   "id": "06991a1c-b9c6-4193-8cc4-687e646dc061",
   "metadata": {},
   "outputs": [],
   "source": [
    "from datetime import timedelta"
   ]
  },
  {
   "cell_type": "code",
   "execution_count": 9,
   "id": "7f0adfde-592f-4011-9053-21684167d93a",
   "metadata": {},
   "outputs": [],
   "source": [
    "start = datetime(2011, 1, 7)"
   ]
  },
  {
   "cell_type": "code",
   "execution_count": 10,
   "id": "2f302613-f273-44e3-bf52-a66cbfc75187",
   "metadata": {},
   "outputs": [
    {
     "data": {
      "text/plain": [
       "datetime.datetime(2011, 1, 19, 0, 0)"
      ]
     },
     "execution_count": 10,
     "metadata": {},
     "output_type": "execute_result"
    }
   ],
   "source": [
    "start + timedelta(12)"
   ]
  },
  {
   "cell_type": "code",
   "execution_count": 11,
   "id": "3ca684a3-bbe6-49a9-88fe-c98a41d9d854",
   "metadata": {},
   "outputs": [
    {
     "data": {
      "text/plain": [
       "datetime.datetime(2010, 12, 14, 0, 0)"
      ]
     },
     "execution_count": 11,
     "metadata": {},
     "output_type": "execute_result"
    }
   ],
   "source": [
    "start - 2 * timedelta(12)"
   ]
  },
  {
   "cell_type": "markdown",
   "id": "7f4788a5-af16-4f60-8064-c2fd28dc6c54",
   "metadata": {},
   "source": [
    "## conversion between string and datetime"
   ]
  },
  {
   "cell_type": "code",
   "execution_count": 12,
   "id": "7998630f-3c82-4294-8f10-0d67f0b0a491",
   "metadata": {},
   "outputs": [],
   "source": [
    "stamp = datetime(2011, 1, 3)"
   ]
  },
  {
   "cell_type": "code",
   "execution_count": 13,
   "id": "ca293dd0-3218-4a33-8a15-9acbeee2eec2",
   "metadata": {},
   "outputs": [
    {
     "data": {
      "text/plain": [
       "'2011-01-03 00:00:00'"
      ]
     },
     "execution_count": 13,
     "metadata": {},
     "output_type": "execute_result"
    }
   ],
   "source": [
    "str(stamp)"
   ]
  },
  {
   "cell_type": "code",
   "execution_count": 14,
   "id": "c7c608c9-6b9d-4d7f-bfb6-79683fa3bda1",
   "metadata": {},
   "outputs": [
    {
     "data": {
      "text/plain": [
       "'2011-01-03'"
      ]
     },
     "execution_count": 14,
     "metadata": {},
     "output_type": "execute_result"
    }
   ],
   "source": [
    "stamp.strftime('%Y-%m-%d')"
   ]
  },
  {
   "cell_type": "code",
   "execution_count": 15,
   "id": "6d888726-af3f-4fba-8a5e-fcc78df508c2",
   "metadata": {},
   "outputs": [],
   "source": [
    "value = '2014-01-05'"
   ]
  },
  {
   "cell_type": "code",
   "execution_count": 16,
   "id": "405d5219-c840-4bb4-bd18-7cdacd0a967b",
   "metadata": {},
   "outputs": [
    {
     "data": {
      "text/plain": [
       "datetime.datetime(2014, 1, 5, 0, 0)"
      ]
     },
     "execution_count": 16,
     "metadata": {},
     "output_type": "execute_result"
    }
   ],
   "source": [
    "datetime.strptime(value, '%Y-%m-%d')"
   ]
  },
  {
   "cell_type": "code",
   "execution_count": 17,
   "id": "36231dfc-0c50-4d20-b9ce-b8f806f71d04",
   "metadata": {},
   "outputs": [],
   "source": [
    "datestrs = ['7/6/2001', '8/2/2004']"
   ]
  },
  {
   "cell_type": "code",
   "execution_count": 18,
   "id": "4c0b6a4d-804a-409f-a73a-e65ff11d75a4",
   "metadata": {},
   "outputs": [
    {
     "data": {
      "text/plain": [
       "[datetime.datetime(2001, 7, 6, 0, 0), datetime.datetime(2004, 8, 2, 0, 0)]"
      ]
     },
     "execution_count": 18,
     "metadata": {},
     "output_type": "execute_result"
    }
   ],
   "source": [
    "[datetime.strptime(x, '%m/%d/%Y') for x in datestrs]"
   ]
  },
  {
   "cell_type": "code",
   "execution_count": 19,
   "id": "8a3bfc8c-86e1-4c73-a6b9-14cb4287bfb3",
   "metadata": {},
   "outputs": [],
   "source": [
    "from dateutil.parser import parse"
   ]
  },
  {
   "cell_type": "code",
   "execution_count": 20,
   "id": "651b89a6-9006-404c-a738-6ae17cd79eb0",
   "metadata": {},
   "outputs": [
    {
     "data": {
      "text/plain": [
       "datetime.datetime(2005, 10, 3, 0, 0)"
      ]
     },
     "execution_count": 20,
     "metadata": {},
     "output_type": "execute_result"
    }
   ],
   "source": [
    "parse('2005-10-03')"
   ]
  },
  {
   "cell_type": "code",
   "execution_count": 21,
   "id": "2448242f-31a8-43df-b57c-2c1eddd027aa",
   "metadata": {},
   "outputs": [
    {
     "data": {
      "text/plain": [
       "datetime.datetime(1987, 1, 23, 20, 31)"
      ]
     },
     "execution_count": 21,
     "metadata": {},
     "output_type": "execute_result"
    }
   ],
   "source": [
    "parse('Jan 23, 1987 08:31 PM')"
   ]
  },
  {
   "cell_type": "code",
   "execution_count": 22,
   "id": "3a9922ef-6c73-41d2-ba7f-beed2ca05931",
   "metadata": {},
   "outputs": [
    {
     "data": {
      "text/plain": [
       "datetime.datetime(2001, 5, 4, 0, 0)"
      ]
     },
     "execution_count": 22,
     "metadata": {},
     "output_type": "execute_result"
    }
   ],
   "source": [
    "parse('04/05/2001', dayfirst=True)"
   ]
  },
  {
   "cell_type": "code",
   "execution_count": 23,
   "id": "1e958e38-4092-4270-947d-e1edc6575900",
   "metadata": {},
   "outputs": [],
   "source": [
    "datestrs = ['2011-07-06 12:00:00', '2011-08-06 00:00:00']"
   ]
  },
  {
   "cell_type": "code",
   "execution_count": 24,
   "id": "592be56d-4f2a-472a-b1b5-540ca6683024",
   "metadata": {},
   "outputs": [
    {
     "data": {
      "text/plain": [
       "DatetimeIndex(['2011-07-06 12:00:00', '2011-08-06 00:00:00'], dtype='datetime64[ns]', freq=None)"
      ]
     },
     "execution_count": 24,
     "metadata": {},
     "output_type": "execute_result"
    }
   ],
   "source": [
    "pd.to_datetime(datestrs)"
   ]
  },
  {
   "cell_type": "code",
   "execution_count": 25,
   "id": "7a0dcc09-70f8-4848-acb1-3a3b1bd61522",
   "metadata": {},
   "outputs": [],
   "source": [
    "idx = pd.to_datetime(datestrs + [None])"
   ]
  },
  {
   "cell_type": "code",
   "execution_count": 26,
   "id": "5f92d496-96a5-484d-84e9-d862eabc7d35",
   "metadata": {},
   "outputs": [
    {
     "data": {
      "text/plain": [
       "DatetimeIndex(['2011-07-06 12:00:00', '2011-08-06 00:00:00', 'NaT'], dtype='datetime64[ns]', freq=None)"
      ]
     },
     "execution_count": 26,
     "metadata": {},
     "output_type": "execute_result"
    }
   ],
   "source": [
    "idx"
   ]
  },
  {
   "cell_type": "code",
   "execution_count": 27,
   "id": "e20c98df-08c2-4092-84f6-b4cadb133c06",
   "metadata": {},
   "outputs": [
    {
     "data": {
      "text/plain": [
       "NaT"
      ]
     },
     "execution_count": 27,
     "metadata": {},
     "output_type": "execute_result"
    }
   ],
   "source": [
    "idx[2]"
   ]
  },
  {
   "cell_type": "code",
   "execution_count": 28,
   "id": "1804f32f-e16b-4e39-9e25-8297c22ba6ef",
   "metadata": {},
   "outputs": [
    {
     "data": {
      "text/plain": [
       "array([False, False,  True])"
      ]
     },
     "execution_count": 28,
     "metadata": {},
     "output_type": "execute_result"
    }
   ],
   "source": [
    "pd.isnull(idx)"
   ]
  },
  {
   "cell_type": "markdown",
   "id": "a3d054e8-aabe-4126-95b6-ed9bbc5b7f5e",
   "metadata": {},
   "source": [
    "# Basics about time series"
   ]
  },
  {
   "cell_type": "code",
   "execution_count": 29,
   "id": "4270dcb4-d6f1-42a4-8a81-9065c6606422",
   "metadata": {},
   "outputs": [],
   "source": [
    "from datetime import datetime\n",
    "import numpy as np"
   ]
  },
  {
   "cell_type": "code",
   "execution_count": 30,
   "id": "40bc430c-ca35-464b-bf6b-9eb8068b1a34",
   "metadata": {},
   "outputs": [],
   "source": [
    "dates = [datetime(2011, 1, 2), datetime(2011, 1, 5),\n",
    "         datetime(2011, 1, 7), datetime(2011, 1, 8),\n",
    "         datetime(2011, 1, 10), datetime(2011, 1, 12)]"
   ]
  },
  {
   "cell_type": "code",
   "execution_count": 31,
   "id": "483ae8ae-0501-4690-a35b-e941b27e6af3",
   "metadata": {},
   "outputs": [
    {
     "data": {
      "text/plain": [
       "[datetime.datetime(2011, 1, 2, 0, 0),\n",
       " datetime.datetime(2011, 1, 5, 0, 0),\n",
       " datetime.datetime(2011, 1, 7, 0, 0),\n",
       " datetime.datetime(2011, 1, 8, 0, 0),\n",
       " datetime.datetime(2011, 1, 10, 0, 0),\n",
       " datetime.datetime(2011, 1, 12, 0, 0)]"
      ]
     },
     "execution_count": 31,
     "metadata": {},
     "output_type": "execute_result"
    }
   ],
   "source": [
    "dates"
   ]
  },
  {
   "cell_type": "code",
   "execution_count": 32,
   "id": "35026629-6463-4168-b000-cc6fe482ea40",
   "metadata": {},
   "outputs": [],
   "source": [
    "ts = pd.Series(np.random.randn(6), index=dates)"
   ]
  },
  {
   "cell_type": "code",
   "execution_count": 33,
   "id": "c90ed081-9c6c-4346-8050-691abac764ab",
   "metadata": {},
   "outputs": [
    {
     "data": {
      "text/plain": [
       "2011-01-02    0.764706\n",
       "2011-01-05    0.869924\n",
       "2011-01-07   -0.213968\n",
       "2011-01-08    1.212538\n",
       "2011-01-10    0.809455\n",
       "2011-01-12    0.877138\n",
       "dtype: float64"
      ]
     },
     "execution_count": 33,
     "metadata": {},
     "output_type": "execute_result"
    }
   ],
   "source": [
    "ts"
   ]
  },
  {
   "cell_type": "code",
   "execution_count": 34,
   "id": "c8de1016-1e50-4dd4-9421-d0cb46c144f2",
   "metadata": {},
   "outputs": [
    {
     "data": {
      "text/plain": [
       "DatetimeIndex(['2011-01-02', '2011-01-05', '2011-01-07', '2011-01-08',\n",
       "               '2011-01-10', '2011-01-12'],\n",
       "              dtype='datetime64[ns]', freq=None)"
      ]
     },
     "execution_count": 34,
     "metadata": {},
     "output_type": "execute_result"
    }
   ],
   "source": [
    "ts.index"
   ]
  },
  {
   "cell_type": "code",
   "execution_count": 35,
   "id": "1c06a42c-33a4-4256-938b-0b95a7c2b7cd",
   "metadata": {},
   "outputs": [
    {
     "data": {
      "text/plain": [
       "2011-01-02    1.529411\n",
       "2011-01-05         NaN\n",
       "2011-01-07   -0.427936\n",
       "2011-01-08         NaN\n",
       "2011-01-10    1.618910\n",
       "2011-01-12         NaN\n",
       "dtype: float64"
      ]
     },
     "execution_count": 35,
     "metadata": {},
     "output_type": "execute_result"
    }
   ],
   "source": [
    "ts + ts[::2]"
   ]
  },
  {
   "cell_type": "code",
   "execution_count": 36,
   "id": "f4bdf4f0-2400-4813-99b6-0ff0a7c2d661",
   "metadata": {},
   "outputs": [
    {
     "data": {
      "text/plain": [
       "dtype('<M8[ns]')"
      ]
     },
     "execution_count": 36,
     "metadata": {},
     "output_type": "execute_result"
    }
   ],
   "source": [
    "ts.index.dtype"
   ]
  },
  {
   "cell_type": "code",
   "execution_count": 37,
   "id": "aa743ac2-20f6-471d-8e0d-772f991a1c46",
   "metadata": {},
   "outputs": [],
   "source": [
    "stamp = ts.index[0]"
   ]
  },
  {
   "cell_type": "code",
   "execution_count": 38,
   "id": "5ca228f3-e062-454c-bdbf-9434b34bae61",
   "metadata": {},
   "outputs": [
    {
     "data": {
      "text/plain": [
       "Timestamp('2011-01-02 00:00:00')"
      ]
     },
     "execution_count": 38,
     "metadata": {},
     "output_type": "execute_result"
    }
   ],
   "source": [
    "stamp"
   ]
  },
  {
   "cell_type": "markdown",
   "id": "e6266b02-7f20-4697-ba55-0f8ed20486cb",
   "metadata": {},
   "source": [
    "# Indexing, selection and generation of subsets"
   ]
  },
  {
   "cell_type": "code",
   "execution_count": 39,
   "id": "31734284-a1ac-4068-8733-9abf0757032d",
   "metadata": {},
   "outputs": [],
   "source": [
    "stamp = ts.index[2]"
   ]
  },
  {
   "cell_type": "code",
   "execution_count": 40,
   "id": "e093a24e-e044-427d-a648-7213d449de00",
   "metadata": {},
   "outputs": [
    {
     "data": {
      "text/plain": [
       "-0.21396776661957367"
      ]
     },
     "execution_count": 40,
     "metadata": {},
     "output_type": "execute_result"
    }
   ],
   "source": [
    "ts[stamp]"
   ]
  },
  {
   "cell_type": "code",
   "execution_count": 41,
   "id": "5d2fb103-3193-4353-b096-ea254ef8adf8",
   "metadata": {},
   "outputs": [
    {
     "data": {
      "text/plain": [
       "0.8094549331246028"
      ]
     },
     "execution_count": 41,
     "metadata": {},
     "output_type": "execute_result"
    }
   ],
   "source": [
    "ts['1/10/2011']"
   ]
  },
  {
   "cell_type": "code",
   "execution_count": 42,
   "id": "805d87c3-7d4f-4251-91c7-83cf1c583d81",
   "metadata": {},
   "outputs": [
    {
     "data": {
      "text/plain": [
       "0.8094549331246028"
      ]
     },
     "execution_count": 42,
     "metadata": {},
     "output_type": "execute_result"
    }
   ],
   "source": [
    "ts['20110110']"
   ]
  },
  {
   "cell_type": "code",
   "execution_count": 43,
   "id": "4f765ddf-03b3-4769-8e9a-df87a1d16c13",
   "metadata": {},
   "outputs": [],
   "source": [
    "longer_ts = pd.Series(np.random.randn(1000), \n",
    "                      index=pd.date_range('1/1/2000', periods=1000))"
   ]
  },
  {
   "cell_type": "code",
   "execution_count": 44,
   "id": "95fca45e-5721-43c8-9469-7140b013ff95",
   "metadata": {},
   "outputs": [
    {
     "data": {
      "text/plain": [
       "2000-01-01    1.624949\n",
       "2000-01-02    1.390151\n",
       "2000-01-03   -0.657191\n",
       "2000-01-04   -1.192040\n",
       "2000-01-05   -0.235977\n",
       "                ...   \n",
       "2002-09-22    0.216108\n",
       "2002-09-23    1.199792\n",
       "2002-09-24    0.242729\n",
       "2002-09-25   -0.195169\n",
       "2002-09-26    0.034940\n",
       "Freq: D, Length: 1000, dtype: float64"
      ]
     },
     "execution_count": 44,
     "metadata": {},
     "output_type": "execute_result"
    }
   ],
   "source": [
    "longer_ts"
   ]
  },
  {
   "cell_type": "code",
   "execution_count": 45,
   "id": "4fff1833-dc6f-4e07-a9d6-2ba60e5c8fb7",
   "metadata": {},
   "outputs": [
    {
     "data": {
      "text/plain": [
       "2001-01-01    1.646990\n",
       "2001-01-02   -0.621925\n",
       "2001-01-03   -1.095101\n",
       "2001-01-04   -1.442621\n",
       "2001-01-05   -0.339760\n",
       "                ...   \n",
       "2001-12-27    0.445098\n",
       "2001-12-28   -0.249794\n",
       "2001-12-29    0.123523\n",
       "2001-12-30    0.811738\n",
       "2001-12-31   -1.790646\n",
       "Freq: D, Length: 365, dtype: float64"
      ]
     },
     "execution_count": 45,
     "metadata": {},
     "output_type": "execute_result"
    }
   ],
   "source": [
    "longer_ts['2001']"
   ]
  },
  {
   "cell_type": "code",
   "execution_count": 46,
   "id": "a01c7730-f897-4570-b16e-0c68475a9577",
   "metadata": {},
   "outputs": [
    {
     "data": {
      "text/plain": [
       "2001-05-01   -0.699479\n",
       "2001-05-02    0.890003\n",
       "2001-05-03   -0.051296\n",
       "2001-05-04   -0.425015\n",
       "2001-05-05   -0.290263\n",
       "2001-05-06   -0.674169\n",
       "2001-05-07   -0.409948\n",
       "2001-05-08   -1.321700\n",
       "2001-05-09   -0.142856\n",
       "2001-05-10   -1.432893\n",
       "2001-05-11   -0.422733\n",
       "2001-05-12   -2.254745\n",
       "2001-05-13   -0.349395\n",
       "2001-05-14   -0.262323\n",
       "2001-05-15    0.070691\n",
       "2001-05-16   -0.351364\n",
       "2001-05-17    1.934434\n",
       "2001-05-18    1.201637\n",
       "2001-05-19    0.216122\n",
       "2001-05-20   -1.207017\n",
       "2001-05-21    0.719354\n",
       "2001-05-22   -0.993269\n",
       "2001-05-23   -0.331386\n",
       "2001-05-24   -0.488764\n",
       "2001-05-25    1.458358\n",
       "2001-05-26   -0.750273\n",
       "2001-05-27   -0.068861\n",
       "2001-05-28   -1.345624\n",
       "2001-05-29   -1.630756\n",
       "2001-05-30    0.390618\n",
       "2001-05-31    0.727159\n",
       "Freq: D, dtype: float64"
      ]
     },
     "execution_count": 46,
     "metadata": {},
     "output_type": "execute_result"
    }
   ],
   "source": [
    "longer_ts['2001-05']"
   ]
  },
  {
   "cell_type": "code",
   "execution_count": 47,
   "id": "7b432f23-a572-4d9c-864f-fef7eb722c34",
   "metadata": {},
   "outputs": [
    {
     "data": {
      "text/plain": [
       "2011-01-07   -0.213968\n",
       "2011-01-08    1.212538\n",
       "2011-01-10    0.809455\n",
       "2011-01-12    0.877138\n",
       "dtype: float64"
      ]
     },
     "execution_count": 47,
     "metadata": {},
     "output_type": "execute_result"
    }
   ],
   "source": [
    "ts[datetime(2011, 1, 7):]"
   ]
  },
  {
   "cell_type": "code",
   "execution_count": 48,
   "id": "19161e47-e1a6-462f-ae33-6e6fc6b0eb96",
   "metadata": {},
   "outputs": [
    {
     "data": {
      "text/plain": [
       "2011-01-02    0.764706\n",
       "2011-01-05    0.869924\n",
       "2011-01-07   -0.213968\n",
       "2011-01-08    1.212538\n",
       "2011-01-10    0.809455\n",
       "2011-01-12    0.877138\n",
       "dtype: float64"
      ]
     },
     "execution_count": 48,
     "metadata": {},
     "output_type": "execute_result"
    }
   ],
   "source": [
    "ts"
   ]
  },
  {
   "cell_type": "code",
   "execution_count": 49,
   "id": "a46a1493-6823-43a8-9fba-de8132e62348",
   "metadata": {},
   "outputs": [
    {
     "data": {
      "text/plain": [
       "2011-01-02    0.764706\n",
       "2011-01-05    0.869924\n",
       "2011-01-07   -0.213968\n",
       "2011-01-08    1.212538\n",
       "dtype: float64"
      ]
     },
     "execution_count": 49,
     "metadata": {},
     "output_type": "execute_result"
    }
   ],
   "source": [
    "ts['1/2/2011':'1/8/2011']"
   ]
  },
  {
   "cell_type": "code",
   "execution_count": 50,
   "id": "17c8142a-a9ae-4c63-b799-b4a89db49b52",
   "metadata": {},
   "outputs": [
    {
     "data": {
      "text/plain": [
       "2011-01-02    0.764706\n",
       "2011-01-05    0.869924\n",
       "2011-01-07   -0.213968\n",
       "2011-01-08    1.212538\n",
       "dtype: float64"
      ]
     },
     "execution_count": 50,
     "metadata": {},
     "output_type": "execute_result"
    }
   ],
   "source": [
    "ts.truncate(after='1/9/2011')"
   ]
  },
  {
   "cell_type": "markdown",
   "id": "c29809b5-6643-4602-b649-059da36f3dd9",
   "metadata": {},
   "source": [
    "## You can use it in Dataframes as well"
   ]
  },
  {
   "cell_type": "code",
   "execution_count": 51,
   "id": "bbc27649-2d22-4e5f-aab9-32b391804f0a",
   "metadata": {},
   "outputs": [],
   "source": [
    "dates = pd.date_range('1/1/2000', periods=100, freq='W-WED')"
   ]
  },
  {
   "cell_type": "code",
   "execution_count": 52,
   "id": "77c63a99-f434-4ca3-910a-07ba5615f30f",
   "metadata": {},
   "outputs": [
    {
     "data": {
      "text/plain": [
       "DatetimeIndex(['2000-01-05', '2000-01-12', '2000-01-19', '2000-01-26',\n",
       "               '2000-02-02', '2000-02-09', '2000-02-16', '2000-02-23',\n",
       "               '2000-03-01', '2000-03-08', '2000-03-15', '2000-03-22',\n",
       "               '2000-03-29', '2000-04-05', '2000-04-12', '2000-04-19',\n",
       "               '2000-04-26', '2000-05-03', '2000-05-10', '2000-05-17',\n",
       "               '2000-05-24', '2000-05-31', '2000-06-07', '2000-06-14',\n",
       "               '2000-06-21', '2000-06-28', '2000-07-05', '2000-07-12',\n",
       "               '2000-07-19', '2000-07-26', '2000-08-02', '2000-08-09',\n",
       "               '2000-08-16', '2000-08-23', '2000-08-30', '2000-09-06',\n",
       "               '2000-09-13', '2000-09-20', '2000-09-27', '2000-10-04',\n",
       "               '2000-10-11', '2000-10-18', '2000-10-25', '2000-11-01',\n",
       "               '2000-11-08', '2000-11-15', '2000-11-22', '2000-11-29',\n",
       "               '2000-12-06', '2000-12-13', '2000-12-20', '2000-12-27',\n",
       "               '2001-01-03', '2001-01-10', '2001-01-17', '2001-01-24',\n",
       "               '2001-01-31', '2001-02-07', '2001-02-14', '2001-02-21',\n",
       "               '2001-02-28', '2001-03-07', '2001-03-14', '2001-03-21',\n",
       "               '2001-03-28', '2001-04-04', '2001-04-11', '2001-04-18',\n",
       "               '2001-04-25', '2001-05-02', '2001-05-09', '2001-05-16',\n",
       "               '2001-05-23', '2001-05-30', '2001-06-06', '2001-06-13',\n",
       "               '2001-06-20', '2001-06-27', '2001-07-04', '2001-07-11',\n",
       "               '2001-07-18', '2001-07-25', '2001-08-01', '2001-08-08',\n",
       "               '2001-08-15', '2001-08-22', '2001-08-29', '2001-09-05',\n",
       "               '2001-09-12', '2001-09-19', '2001-09-26', '2001-10-03',\n",
       "               '2001-10-10', '2001-10-17', '2001-10-24', '2001-10-31',\n",
       "               '2001-11-07', '2001-11-14', '2001-11-21', '2001-11-28'],\n",
       "              dtype='datetime64[ns]', freq='W-WED')"
      ]
     },
     "execution_count": 52,
     "metadata": {},
     "output_type": "execute_result"
    }
   ],
   "source": [
    "dates"
   ]
  },
  {
   "cell_type": "code",
   "execution_count": 53,
   "id": "66f17e9f-42ed-415b-a5e8-56798f56f6dc",
   "metadata": {},
   "outputs": [],
   "source": [
    "long_df = pd.DataFrame(np.random.randn(100, 4), index=dates, columns=['SP', 'PE', 'BA', 'RJ'])"
   ]
  },
  {
   "cell_type": "code",
   "execution_count": 54,
   "id": "34fc3bd8-a2d3-4098-998b-63aebb7b4efb",
   "metadata": {},
   "outputs": [
    {
     "data": {
      "text/html": [
       "<div>\n",
       "<style scoped>\n",
       "    .dataframe tbody tr th:only-of-type {\n",
       "        vertical-align: middle;\n",
       "    }\n",
       "\n",
       "    .dataframe tbody tr th {\n",
       "        vertical-align: top;\n",
       "    }\n",
       "\n",
       "    .dataframe thead th {\n",
       "        text-align: right;\n",
       "    }\n",
       "</style>\n",
       "<table border=\"1\" class=\"dataframe\">\n",
       "  <thead>\n",
       "    <tr style=\"text-align: right;\">\n",
       "      <th></th>\n",
       "      <th>SP</th>\n",
       "      <th>PE</th>\n",
       "      <th>BA</th>\n",
       "      <th>RJ</th>\n",
       "    </tr>\n",
       "  </thead>\n",
       "  <tbody>\n",
       "    <tr>\n",
       "      <th>2000-01-05</th>\n",
       "      <td>-0.537571</td>\n",
       "      <td>-0.198413</td>\n",
       "      <td>0.269038</td>\n",
       "      <td>-0.331475</td>\n",
       "    </tr>\n",
       "    <tr>\n",
       "      <th>2000-01-12</th>\n",
       "      <td>-0.994522</td>\n",
       "      <td>-0.588188</td>\n",
       "      <td>-0.347297</td>\n",
       "      <td>0.456371</td>\n",
       "    </tr>\n",
       "    <tr>\n",
       "      <th>2000-01-19</th>\n",
       "      <td>0.167966</td>\n",
       "      <td>2.357378</td>\n",
       "      <td>-1.690779</td>\n",
       "      <td>1.149726</td>\n",
       "    </tr>\n",
       "    <tr>\n",
       "      <th>2000-01-26</th>\n",
       "      <td>1.024417</td>\n",
       "      <td>-1.295671</td>\n",
       "      <td>1.125170</td>\n",
       "      <td>-0.309296</td>\n",
       "    </tr>\n",
       "    <tr>\n",
       "      <th>2000-02-02</th>\n",
       "      <td>-1.556668</td>\n",
       "      <td>0.199650</td>\n",
       "      <td>-1.506191</td>\n",
       "      <td>-1.050244</td>\n",
       "    </tr>\n",
       "    <tr>\n",
       "      <th>...</th>\n",
       "      <td>...</td>\n",
       "      <td>...</td>\n",
       "      <td>...</td>\n",
       "      <td>...</td>\n",
       "    </tr>\n",
       "    <tr>\n",
       "      <th>2001-10-31</th>\n",
       "      <td>0.430348</td>\n",
       "      <td>0.365276</td>\n",
       "      <td>-1.313841</td>\n",
       "      <td>0.168131</td>\n",
       "    </tr>\n",
       "    <tr>\n",
       "      <th>2001-11-07</th>\n",
       "      <td>-0.215877</td>\n",
       "      <td>-0.071297</td>\n",
       "      <td>0.888463</td>\n",
       "      <td>-0.574758</td>\n",
       "    </tr>\n",
       "    <tr>\n",
       "      <th>2001-11-14</th>\n",
       "      <td>-0.147974</td>\n",
       "      <td>0.024506</td>\n",
       "      <td>-0.141622</td>\n",
       "      <td>0.369909</td>\n",
       "    </tr>\n",
       "    <tr>\n",
       "      <th>2001-11-21</th>\n",
       "      <td>-0.439276</td>\n",
       "      <td>-0.821897</td>\n",
       "      <td>-0.775312</td>\n",
       "      <td>-0.301810</td>\n",
       "    </tr>\n",
       "    <tr>\n",
       "      <th>2001-11-28</th>\n",
       "      <td>0.763611</td>\n",
       "      <td>0.916912</td>\n",
       "      <td>0.321853</td>\n",
       "      <td>-0.621021</td>\n",
       "    </tr>\n",
       "  </tbody>\n",
       "</table>\n",
       "<p>100 rows × 4 columns</p>\n",
       "</div>"
      ],
      "text/plain": [
       "                  SP        PE        BA        RJ\n",
       "2000-01-05 -0.537571 -0.198413  0.269038 -0.331475\n",
       "2000-01-12 -0.994522 -0.588188 -0.347297  0.456371\n",
       "2000-01-19  0.167966  2.357378 -1.690779  1.149726\n",
       "2000-01-26  1.024417 -1.295671  1.125170 -0.309296\n",
       "2000-02-02 -1.556668  0.199650 -1.506191 -1.050244\n",
       "...              ...       ...       ...       ...\n",
       "2001-10-31  0.430348  0.365276 -1.313841  0.168131\n",
       "2001-11-07 -0.215877 -0.071297  0.888463 -0.574758\n",
       "2001-11-14 -0.147974  0.024506 -0.141622  0.369909\n",
       "2001-11-21 -0.439276 -0.821897 -0.775312 -0.301810\n",
       "2001-11-28  0.763611  0.916912  0.321853 -0.621021\n",
       "\n",
       "[100 rows x 4 columns]"
      ]
     },
     "execution_count": 54,
     "metadata": {},
     "output_type": "execute_result"
    }
   ],
   "source": [
    "long_df"
   ]
  },
  {
   "cell_type": "code",
   "execution_count": 55,
   "id": "4affe208-c3c2-4c57-b4e8-c6ea83539611",
   "metadata": {},
   "outputs": [
    {
     "data": {
      "text/html": [
       "<div>\n",
       "<style scoped>\n",
       "    .dataframe tbody tr th:only-of-type {\n",
       "        vertical-align: middle;\n",
       "    }\n",
       "\n",
       "    .dataframe tbody tr th {\n",
       "        vertical-align: top;\n",
       "    }\n",
       "\n",
       "    .dataframe thead th {\n",
       "        text-align: right;\n",
       "    }\n",
       "</style>\n",
       "<table border=\"1\" class=\"dataframe\">\n",
       "  <thead>\n",
       "    <tr style=\"text-align: right;\">\n",
       "      <th></th>\n",
       "      <th>SP</th>\n",
       "      <th>PE</th>\n",
       "      <th>BA</th>\n",
       "      <th>RJ</th>\n",
       "    </tr>\n",
       "  </thead>\n",
       "  <tbody>\n",
       "    <tr>\n",
       "      <th>2001-05-02</th>\n",
       "      <td>-0.145783</td>\n",
       "      <td>-0.434341</td>\n",
       "      <td>-0.291992</td>\n",
       "      <td>-0.606774</td>\n",
       "    </tr>\n",
       "    <tr>\n",
       "      <th>2001-05-09</th>\n",
       "      <td>-0.218879</td>\n",
       "      <td>-0.197295</td>\n",
       "      <td>-0.426284</td>\n",
       "      <td>-0.447606</td>\n",
       "    </tr>\n",
       "    <tr>\n",
       "      <th>2001-05-16</th>\n",
       "      <td>0.926518</td>\n",
       "      <td>-1.095298</td>\n",
       "      <td>-1.192059</td>\n",
       "      <td>-0.744709</td>\n",
       "    </tr>\n",
       "    <tr>\n",
       "      <th>2001-05-23</th>\n",
       "      <td>0.167140</td>\n",
       "      <td>0.883815</td>\n",
       "      <td>-1.917249</td>\n",
       "      <td>0.476627</td>\n",
       "    </tr>\n",
       "    <tr>\n",
       "      <th>2001-05-30</th>\n",
       "      <td>-0.571177</td>\n",
       "      <td>1.128265</td>\n",
       "      <td>0.430549</td>\n",
       "      <td>2.086140</td>\n",
       "    </tr>\n",
       "  </tbody>\n",
       "</table>\n",
       "</div>"
      ],
      "text/plain": [
       "                  SP        PE        BA        RJ\n",
       "2001-05-02 -0.145783 -0.434341 -0.291992 -0.606774\n",
       "2001-05-09 -0.218879 -0.197295 -0.426284 -0.447606\n",
       "2001-05-16  0.926518 -1.095298 -1.192059 -0.744709\n",
       "2001-05-23  0.167140  0.883815 -1.917249  0.476627\n",
       "2001-05-30 -0.571177  1.128265  0.430549  2.086140"
      ]
     },
     "execution_count": 55,
     "metadata": {},
     "output_type": "execute_result"
    }
   ],
   "source": [
    "long_df.loc['5-2001']"
   ]
  },
  {
   "cell_type": "markdown",
   "id": "4e74122b-44d1-4bac-8a18-682a29d4c77c",
   "metadata": {},
   "source": [
    "# Time series with duplicated index"
   ]
  },
  {
   "cell_type": "code",
   "execution_count": 56,
   "id": "4a20f5ff-6474-4fb1-a414-855be26da379",
   "metadata": {},
   "outputs": [],
   "source": [
    "dates = pd.DatetimeIndex(['1/1/2000', '1/2/2000', '1/2/2000', '1/2/2000', '1/3/2000'])"
   ]
  },
  {
   "cell_type": "code",
   "execution_count": 57,
   "id": "11045293-dce9-4aba-a07a-eab7ae214ef7",
   "metadata": {},
   "outputs": [],
   "source": [
    "dup_ts = pd.Series(np.arange(5), index=dates)"
   ]
  },
  {
   "cell_type": "code",
   "execution_count": 58,
   "id": "149cba82-3f55-45ee-a779-70371e64cded",
   "metadata": {},
   "outputs": [
    {
     "data": {
      "text/plain": [
       "2000-01-01    0\n",
       "2000-01-02    1\n",
       "2000-01-02    2\n",
       "2000-01-02    3\n",
       "2000-01-03    4\n",
       "dtype: int64"
      ]
     },
     "execution_count": 58,
     "metadata": {},
     "output_type": "execute_result"
    }
   ],
   "source": [
    "dup_ts"
   ]
  },
  {
   "cell_type": "code",
   "execution_count": 59,
   "id": "4b0be264-4571-46de-a1f9-676b1051f1f3",
   "metadata": {},
   "outputs": [
    {
     "data": {
      "text/plain": [
       "False"
      ]
     },
     "execution_count": 59,
     "metadata": {},
     "output_type": "execute_result"
    }
   ],
   "source": [
    "dup_ts.index.is_unique"
   ]
  },
  {
   "cell_type": "code",
   "execution_count": 60,
   "id": "9415897b-a6d9-4f20-b3ac-03c9af35670d",
   "metadata": {},
   "outputs": [
    {
     "data": {
      "text/plain": [
       "4"
      ]
     },
     "execution_count": 60,
     "metadata": {},
     "output_type": "execute_result"
    }
   ],
   "source": [
    "dup_ts['1/3/2000']"
   ]
  },
  {
   "cell_type": "code",
   "execution_count": 61,
   "id": "232a56df-1816-43ab-90de-4cea357ddf17",
   "metadata": {},
   "outputs": [
    {
     "data": {
      "text/plain": [
       "2000-01-02    1\n",
       "2000-01-02    2\n",
       "2000-01-02    3\n",
       "dtype: int64"
      ]
     },
     "execution_count": 61,
     "metadata": {},
     "output_type": "execute_result"
    }
   ],
   "source": [
    "dup_ts['1/2/2000']"
   ]
  },
  {
   "cell_type": "code",
   "execution_count": 62,
   "id": "2c71e332-7912-46a6-b3e0-b4ce9461b8e9",
   "metadata": {},
   "outputs": [],
   "source": [
    "grouped = dup_ts.groupby(level=0)"
   ]
  },
  {
   "cell_type": "code",
   "execution_count": 63,
   "id": "00b64a60-d9ec-496c-8633-a85e389bf290",
   "metadata": {},
   "outputs": [
    {
     "data": {
      "text/plain": [
       "2000-01-01    0.0\n",
       "2000-01-02    2.0\n",
       "2000-01-03    4.0\n",
       "dtype: float64"
      ]
     },
     "execution_count": 63,
     "metadata": {},
     "output_type": "execute_result"
    }
   ],
   "source": [
    "grouped.mean()"
   ]
  },
  {
   "cell_type": "code",
   "execution_count": 64,
   "id": "e2f5d12d-2329-4a03-905c-770761f62bb2",
   "metadata": {},
   "outputs": [
    {
     "data": {
      "text/plain": [
       "2000-01-01    1\n",
       "2000-01-02    3\n",
       "2000-01-03    1\n",
       "dtype: int64"
      ]
     },
     "execution_count": 64,
     "metadata": {},
     "output_type": "execute_result"
    }
   ],
   "source": [
    "grouped.count()"
   ]
  },
  {
   "cell_type": "markdown",
   "id": "4cfcb817-c16f-4294-8582-965d372a25b1",
   "metadata": {},
   "source": [
    "# Date range, frequency and displacements"
   ]
  },
  {
   "cell_type": "code",
   "execution_count": 65,
   "id": "9574cd47-43cf-4714-a9ca-bc6aa01d5ced",
   "metadata": {},
   "outputs": [
    {
     "data": {
      "text/plain": [
       "2011-01-02    0.764706\n",
       "2011-01-05    0.869924\n",
       "2011-01-07   -0.213968\n",
       "2011-01-08    1.212538\n",
       "2011-01-10    0.809455\n",
       "2011-01-12    0.877138\n",
       "dtype: float64"
      ]
     },
     "execution_count": 65,
     "metadata": {},
     "output_type": "execute_result"
    }
   ],
   "source": [
    "ts"
   ]
  },
  {
   "cell_type": "code",
   "execution_count": 66,
   "id": "f73aa6ea-0d92-448e-9a5a-01c0c0c4326b",
   "metadata": {},
   "outputs": [],
   "source": [
    "resampler = ts.resample('D')"
   ]
  },
  {
   "cell_type": "code",
   "execution_count": 67,
   "id": "57651878-08ac-4a84-877a-11990f3da5cf",
   "metadata": {},
   "outputs": [
    {
     "data": {
      "text/plain": [
       "2011-01-02    0.764706\n",
       "2011-01-03         NaN\n",
       "2011-01-04         NaN\n",
       "2011-01-05    0.869924\n",
       "2011-01-06         NaN\n",
       "2011-01-07   -0.213968\n",
       "2011-01-08    1.212538\n",
       "2011-01-09         NaN\n",
       "2011-01-10    0.809455\n",
       "2011-01-11         NaN\n",
       "2011-01-12    0.877138\n",
       "Freq: D, dtype: float64"
      ]
     },
     "execution_count": 67,
     "metadata": {},
     "output_type": "execute_result"
    }
   ],
   "source": [
    "resampler.mean()"
   ]
  },
  {
   "cell_type": "markdown",
   "id": "0c4629f5-6edb-4e47-a42e-1632d09bdb02",
   "metadata": {},
   "source": [
    "# Generating date ranges"
   ]
  },
  {
   "cell_type": "code",
   "execution_count": 68,
   "id": "7bad953b-d43d-4af2-9fa0-a2682bbd2049",
   "metadata": {},
   "outputs": [],
   "source": [
    "index = pd.date_range('2012-04-01', '2012-06-01')"
   ]
  },
  {
   "cell_type": "code",
   "execution_count": 69,
   "id": "82af0853-01b9-41a7-be87-1e833442d798",
   "metadata": {},
   "outputs": [
    {
     "data": {
      "text/plain": [
       "DatetimeIndex(['2012-04-01', '2012-04-02', '2012-04-03', '2012-04-04',\n",
       "               '2012-04-05', '2012-04-06', '2012-04-07', '2012-04-08',\n",
       "               '2012-04-09', '2012-04-10', '2012-04-11', '2012-04-12',\n",
       "               '2012-04-13', '2012-04-14', '2012-04-15', '2012-04-16',\n",
       "               '2012-04-17', '2012-04-18', '2012-04-19', '2012-04-20',\n",
       "               '2012-04-21', '2012-04-22', '2012-04-23', '2012-04-24',\n",
       "               '2012-04-25', '2012-04-26', '2012-04-27', '2012-04-28',\n",
       "               '2012-04-29', '2012-04-30', '2012-05-01', '2012-05-02',\n",
       "               '2012-05-03', '2012-05-04', '2012-05-05', '2012-05-06',\n",
       "               '2012-05-07', '2012-05-08', '2012-05-09', '2012-05-10',\n",
       "               '2012-05-11', '2012-05-12', '2012-05-13', '2012-05-14',\n",
       "               '2012-05-15', '2012-05-16', '2012-05-17', '2012-05-18',\n",
       "               '2012-05-19', '2012-05-20', '2012-05-21', '2012-05-22',\n",
       "               '2012-05-23', '2012-05-24', '2012-05-25', '2012-05-26',\n",
       "               '2012-05-27', '2012-05-28', '2012-05-29', '2012-05-30',\n",
       "               '2012-05-31', '2012-06-01'],\n",
       "              dtype='datetime64[ns]', freq='D')"
      ]
     },
     "execution_count": 69,
     "metadata": {},
     "output_type": "execute_result"
    }
   ],
   "source": [
    "index"
   ]
  },
  {
   "cell_type": "code",
   "execution_count": 70,
   "id": "e5db5194-b579-4fa7-846b-ce56e228e37e",
   "metadata": {},
   "outputs": [
    {
     "data": {
      "text/plain": [
       "DatetimeIndex(['2024-01-01', '2024-01-02', '2024-01-03', '2024-01-04',\n",
       "               '2024-01-05', '2024-01-06', '2024-01-07', '2024-01-08',\n",
       "               '2024-01-09', '2024-01-10', '2024-01-11', '2024-01-12',\n",
       "               '2024-01-13', '2024-01-14', '2024-01-15', '2024-01-16',\n",
       "               '2024-01-17', '2024-01-18', '2024-01-19', '2024-01-20'],\n",
       "              dtype='datetime64[ns]', freq='D')"
      ]
     },
     "execution_count": 70,
     "metadata": {},
     "output_type": "execute_result"
    }
   ],
   "source": [
    "pd.date_range(start='2024-01-01', periods=20)"
   ]
  },
  {
   "cell_type": "code",
   "execution_count": 71,
   "id": "ae96bf2e-3e83-4b91-bf17-ef17a8000d4b",
   "metadata": {},
   "outputs": [
    {
     "data": {
      "text/plain": [
       "DatetimeIndex(['2023-12-13', '2023-12-14', '2023-12-15', '2023-12-16',\n",
       "               '2023-12-17', '2023-12-18', '2023-12-19', '2023-12-20',\n",
       "               '2023-12-21', '2023-12-22', '2023-12-23', '2023-12-24',\n",
       "               '2023-12-25', '2023-12-26', '2023-12-27', '2023-12-28',\n",
       "               '2023-12-29', '2023-12-30', '2023-12-31', '2024-01-01'],\n",
       "              dtype='datetime64[ns]', freq='D')"
      ]
     },
     "execution_count": 71,
     "metadata": {},
     "output_type": "execute_result"
    }
   ],
   "source": [
    "pd.date_range(end='2024-01-01', periods=20)"
   ]
  },
  {
   "cell_type": "code",
   "execution_count": 72,
   "id": "c5fb64d9-ed84-4057-bb97-e105b188ad05",
   "metadata": {},
   "outputs": [
    {
     "data": {
      "text/plain": [
       "DatetimeIndex(['2024-01-31', '2024-02-29', '2024-03-29', '2024-04-30',\n",
       "               '2024-05-31', '2024-06-28', '2024-07-31', '2024-08-30',\n",
       "               '2024-09-30', '2024-10-31', '2024-11-29'],\n",
       "              dtype='datetime64[ns]', freq='BM')"
      ]
     },
     "execution_count": 72,
     "metadata": {},
     "output_type": "execute_result"
    }
   ],
   "source": [
    "pd.date_range('2024-01-01', '2024-12-01', freq='BM')"
   ]
  },
  {
   "cell_type": "code",
   "execution_count": 73,
   "id": "f76fd6d7-5570-4cf4-9c59-96b03702ff54",
   "metadata": {},
   "outputs": [
    {
     "data": {
      "text/plain": [
       "DatetimeIndex(['2024-01-01', '2024-01-02', '2024-01-03', '2024-01-04',\n",
       "               '2024-01-05', '2024-01-08', '2024-01-09', '2024-01-10',\n",
       "               '2024-01-11', '2024-01-12', '2024-01-15', '2024-01-16',\n",
       "               '2024-01-17', '2024-01-18', '2024-01-19', '2024-01-22',\n",
       "               '2024-01-23', '2024-01-24', '2024-01-25', '2024-01-26',\n",
       "               '2024-01-29', '2024-01-30', '2024-01-31', '2024-02-01'],\n",
       "              dtype='datetime64[ns]', freq='B')"
      ]
     },
     "execution_count": 73,
     "metadata": {},
     "output_type": "execute_result"
    }
   ],
   "source": [
    "pd.date_range('2024-01-01', '2024-02-01', freq='B')"
   ]
  },
  {
   "cell_type": "code",
   "execution_count": 75,
   "id": "af914a44-4be7-4513-b457-e4780ca99669",
   "metadata": {},
   "outputs": [
    {
     "data": {
      "text/plain": [
       "DatetimeIndex(['2024-01-01 12:56:31', '2024-01-02 12:56:31',\n",
       "               '2024-01-03 12:56:31', '2024-01-04 12:56:31',\n",
       "               '2024-01-05 12:56:31'],\n",
       "              dtype='datetime64[ns]', freq='D')"
      ]
     },
     "execution_count": 75,
     "metadata": {},
     "output_type": "execute_result"
    }
   ],
   "source": [
    "pd.date_range('2024-01-01 12:56:31', periods=5)"
   ]
  },
  {
   "cell_type": "code",
   "execution_count": 76,
   "id": "e80c13aa-4c2e-4993-9a6e-eb1dd3980d5e",
   "metadata": {},
   "outputs": [
    {
     "data": {
      "text/plain": [
       "DatetimeIndex(['2024-01-01', '2024-01-02', '2024-01-03', '2024-01-04',\n",
       "               '2024-01-05'],\n",
       "              dtype='datetime64[ns]', freq='D')"
      ]
     },
     "execution_count": 76,
     "metadata": {},
     "output_type": "execute_result"
    }
   ],
   "source": [
    "pd.date_range('2024-01-01 12:56:31', periods=5, normalize=True)"
   ]
  },
  {
   "cell_type": "code",
   "execution_count": null,
   "id": "b35e29e8-bb67-497d-8810-b53d7d5080d9",
   "metadata": {},
   "outputs": [],
   "source": []
  }
 ],
 "metadata": {
  "kernelspec": {
   "display_name": "Python 3 (ipykernel)",
   "language": "python",
   "name": "python3"
  },
  "language_info": {
   "codemirror_mode": {
    "name": "ipython",
    "version": 3
   },
   "file_extension": ".py",
   "mimetype": "text/x-python",
   "name": "python",
   "nbconvert_exporter": "python",
   "pygments_lexer": "ipython3",
   "version": "3.11.5"
  }
 },
 "nbformat": 4,
 "nbformat_minor": 5
}
