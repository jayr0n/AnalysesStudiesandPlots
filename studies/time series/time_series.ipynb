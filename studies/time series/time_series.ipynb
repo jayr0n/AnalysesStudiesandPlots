{
 "cells": [
  {
   "cell_type": "markdown",
   "id": "5b8caf90-b712-4f82-b532-064d69c14805",
   "metadata": {},
   "source": [
    "# type of datas and tools for date and time"
   ]
  },
  {
   "cell_type": "code",
   "execution_count": 31,
   "id": "9ac1f098-84a4-48aa-a475-9f9e32f80e43",
   "metadata": {},
   "outputs": [],
   "source": [
    "from datetime import datetime\n",
    "import pandas as pd"
   ]
  },
  {
   "cell_type": "code",
   "execution_count": 2,
   "id": "84111ce1-1242-46cd-a0cb-9928668b8365",
   "metadata": {},
   "outputs": [
    {
     "data": {
      "text/plain": [
       "datetime.datetime(2023, 12, 16, 20, 24, 5, 127059)"
      ]
     },
     "execution_count": 2,
     "metadata": {},
     "output_type": "execute_result"
    }
   ],
   "source": [
    "now = datetime.now()\n",
    "\n",
    "now"
   ]
  },
  {
   "cell_type": "code",
   "execution_count": 3,
   "id": "0c3c54eb-afb5-4877-826c-34251ee9a705",
   "metadata": {},
   "outputs": [
    {
     "data": {
      "text/plain": [
       "(2023, 12, 16)"
      ]
     },
     "execution_count": 3,
     "metadata": {},
     "output_type": "execute_result"
    }
   ],
   "source": [
    "now.year, now.month, now.day"
   ]
  },
  {
   "cell_type": "code",
   "execution_count": 4,
   "id": "cd1147da-e45a-4d00-b304-61a66cdf81ab",
   "metadata": {},
   "outputs": [],
   "source": [
    "delta = datetime(2011, 1, 7) - datetime(2008, 6, 24, 8, 15)"
   ]
  },
  {
   "cell_type": "code",
   "execution_count": 5,
   "id": "2251d43d-5f3f-44d5-bd64-b1d9a756232c",
   "metadata": {},
   "outputs": [
    {
     "data": {
      "text/plain": [
       "datetime.timedelta(days=926, seconds=56700)"
      ]
     },
     "execution_count": 5,
     "metadata": {},
     "output_type": "execute_result"
    }
   ],
   "source": [
    "delta"
   ]
  },
  {
   "cell_type": "code",
   "execution_count": 6,
   "id": "5d24d5da-dc08-4423-bd9a-6753b3263489",
   "metadata": {},
   "outputs": [
    {
     "data": {
      "text/plain": [
       "926"
      ]
     },
     "execution_count": 6,
     "metadata": {},
     "output_type": "execute_result"
    }
   ],
   "source": [
    "delta.days"
   ]
  },
  {
   "cell_type": "code",
   "execution_count": 7,
   "id": "d7c282e8-6921-4c96-9c63-46bde3671ed9",
   "metadata": {},
   "outputs": [
    {
     "data": {
      "text/plain": [
       "56700"
      ]
     },
     "execution_count": 7,
     "metadata": {},
     "output_type": "execute_result"
    }
   ],
   "source": [
    "delta.seconds"
   ]
  },
  {
   "cell_type": "markdown",
   "id": "08560792-b697-49b0-b0ab-d3ebd2e2e5c0",
   "metadata": {},
   "source": [
    "### we can do sum, mult or sub from datetime"
   ]
  },
  {
   "cell_type": "code",
   "execution_count": 8,
   "id": "06991a1c-b9c6-4193-8cc4-687e646dc061",
   "metadata": {},
   "outputs": [],
   "source": [
    "from datetime import timedelta"
   ]
  },
  {
   "cell_type": "code",
   "execution_count": 9,
   "id": "7f0adfde-592f-4011-9053-21684167d93a",
   "metadata": {},
   "outputs": [],
   "source": [
    "start = datetime(2011, 1, 7)"
   ]
  },
  {
   "cell_type": "code",
   "execution_count": 10,
   "id": "2f302613-f273-44e3-bf52-a66cbfc75187",
   "metadata": {},
   "outputs": [
    {
     "data": {
      "text/plain": [
       "datetime.datetime(2011, 1, 19, 0, 0)"
      ]
     },
     "execution_count": 10,
     "metadata": {},
     "output_type": "execute_result"
    }
   ],
   "source": [
    "start + timedelta(12)"
   ]
  },
  {
   "cell_type": "code",
   "execution_count": 11,
   "id": "3ca684a3-bbe6-49a9-88fe-c98a41d9d854",
   "metadata": {},
   "outputs": [
    {
     "data": {
      "text/plain": [
       "datetime.datetime(2010, 12, 14, 0, 0)"
      ]
     },
     "execution_count": 11,
     "metadata": {},
     "output_type": "execute_result"
    }
   ],
   "source": [
    "start - 2 * timedelta(12)"
   ]
  },
  {
   "cell_type": "markdown",
   "id": "7f4788a5-af16-4f60-8064-c2fd28dc6c54",
   "metadata": {},
   "source": [
    "## conversion between string and datetime"
   ]
  },
  {
   "cell_type": "code",
   "execution_count": 13,
   "id": "7998630f-3c82-4294-8f10-0d67f0b0a491",
   "metadata": {},
   "outputs": [],
   "source": [
    "stamp = datetime(2011, 1, 3)"
   ]
  },
  {
   "cell_type": "code",
   "execution_count": 14,
   "id": "ca293dd0-3218-4a33-8a15-9acbeee2eec2",
   "metadata": {},
   "outputs": [
    {
     "data": {
      "text/plain": [
       "'2011-01-03 00:00:00'"
      ]
     },
     "execution_count": 14,
     "metadata": {},
     "output_type": "execute_result"
    }
   ],
   "source": [
    "str(stamp)"
   ]
  },
  {
   "cell_type": "code",
   "execution_count": 18,
   "id": "c7c608c9-6b9d-4d7f-bfb6-79683fa3bda1",
   "metadata": {},
   "outputs": [
    {
     "data": {
      "text/plain": [
       "'2011-01-03'"
      ]
     },
     "execution_count": 18,
     "metadata": {},
     "output_type": "execute_result"
    }
   ],
   "source": [
    "stamp.strftime('%Y-%m-%d')"
   ]
  },
  {
   "cell_type": "code",
   "execution_count": 19,
   "id": "6d888726-af3f-4fba-8a5e-fcc78df508c2",
   "metadata": {},
   "outputs": [],
   "source": [
    "value = '2014-01-05'"
   ]
  },
  {
   "cell_type": "code",
   "execution_count": 21,
   "id": "405d5219-c840-4bb4-bd18-7cdacd0a967b",
   "metadata": {},
   "outputs": [
    {
     "data": {
      "text/plain": [
       "datetime.datetime(2014, 1, 5, 0, 0)"
      ]
     },
     "execution_count": 21,
     "metadata": {},
     "output_type": "execute_result"
    }
   ],
   "source": [
    "datetime.strptime(value, '%Y-%m-%d')"
   ]
  },
  {
   "cell_type": "code",
   "execution_count": 22,
   "id": "36231dfc-0c50-4d20-b9ce-b8f806f71d04",
   "metadata": {},
   "outputs": [],
   "source": [
    "datestrs = ['7/6/2001', '8/2/2004']"
   ]
  },
  {
   "cell_type": "code",
   "execution_count": 25,
   "id": "4c0b6a4d-804a-409f-a73a-e65ff11d75a4",
   "metadata": {},
   "outputs": [
    {
     "data": {
      "text/plain": [
       "[datetime.datetime(2001, 7, 6, 0, 0), datetime.datetime(2004, 8, 2, 0, 0)]"
      ]
     },
     "execution_count": 25,
     "metadata": {},
     "output_type": "execute_result"
    }
   ],
   "source": [
    "[datetime.strptime(x, '%m/%d/%Y') for x in datestrs]"
   ]
  },
  {
   "cell_type": "code",
   "execution_count": 26,
   "id": "8a3bfc8c-86e1-4c73-a6b9-14cb4287bfb3",
   "metadata": {},
   "outputs": [],
   "source": [
    "from dateutil.parser import parse"
   ]
  },
  {
   "cell_type": "code",
   "execution_count": 27,
   "id": "651b89a6-9006-404c-a738-6ae17cd79eb0",
   "metadata": {},
   "outputs": [
    {
     "data": {
      "text/plain": [
       "datetime.datetime(2005, 10, 3, 0, 0)"
      ]
     },
     "execution_count": 27,
     "metadata": {},
     "output_type": "execute_result"
    }
   ],
   "source": [
    "parse('2005-10-03')"
   ]
  },
  {
   "cell_type": "code",
   "execution_count": 28,
   "id": "2448242f-31a8-43df-b57c-2c1eddd027aa",
   "metadata": {},
   "outputs": [
    {
     "data": {
      "text/plain": [
       "datetime.datetime(1987, 1, 23, 20, 31)"
      ]
     },
     "execution_count": 28,
     "metadata": {},
     "output_type": "execute_result"
    }
   ],
   "source": [
    "parse('Jan 23, 1987 08:31 PM')"
   ]
  },
  {
   "cell_type": "code",
   "execution_count": 29,
   "id": "3a9922ef-6c73-41d2-ba7f-beed2ca05931",
   "metadata": {},
   "outputs": [
    {
     "data": {
      "text/plain": [
       "datetime.datetime(2001, 5, 4, 0, 0)"
      ]
     },
     "execution_count": 29,
     "metadata": {},
     "output_type": "execute_result"
    }
   ],
   "source": [
    "parse('04/05/2001', dayfirst=True)"
   ]
  },
  {
   "cell_type": "code",
   "execution_count": 30,
   "id": "1e958e38-4092-4270-947d-e1edc6575900",
   "metadata": {},
   "outputs": [],
   "source": [
    "datestrs = ['2011-07-06 12:00:00', '2011-08-06 00:00:00']"
   ]
  },
  {
   "cell_type": "code",
   "execution_count": 32,
   "id": "592be56d-4f2a-472a-b1b5-540ca6683024",
   "metadata": {},
   "outputs": [
    {
     "data": {
      "text/plain": [
       "DatetimeIndex(['2011-07-06 12:00:00', '2011-08-06 00:00:00'], dtype='datetime64[ns]', freq=None)"
      ]
     },
     "execution_count": 32,
     "metadata": {},
     "output_type": "execute_result"
    }
   ],
   "source": [
    "pd.to_datetime(datestrs)"
   ]
  },
  {
   "cell_type": "code",
   "execution_count": 33,
   "id": "7a0dcc09-70f8-4848-acb1-3a3b1bd61522",
   "metadata": {},
   "outputs": [],
   "source": [
    "idx = pd.to_datetime(datestrs + [None])"
   ]
  },
  {
   "cell_type": "code",
   "execution_count": 34,
   "id": "5f92d496-96a5-484d-84e9-d862eabc7d35",
   "metadata": {},
   "outputs": [
    {
     "data": {
      "text/plain": [
       "DatetimeIndex(['2011-07-06 12:00:00', '2011-08-06 00:00:00', 'NaT'], dtype='datetime64[ns]', freq=None)"
      ]
     },
     "execution_count": 34,
     "metadata": {},
     "output_type": "execute_result"
    }
   ],
   "source": [
    "idx"
   ]
  },
  {
   "cell_type": "code",
   "execution_count": 35,
   "id": "e20c98df-08c2-4092-84f6-b4cadb133c06",
   "metadata": {},
   "outputs": [
    {
     "data": {
      "text/plain": [
       "NaT"
      ]
     },
     "execution_count": 35,
     "metadata": {},
     "output_type": "execute_result"
    }
   ],
   "source": [
    "idx[2]"
   ]
  },
  {
   "cell_type": "code",
   "execution_count": 36,
   "id": "1804f32f-e16b-4e39-9e25-8297c22ba6ef",
   "metadata": {},
   "outputs": [
    {
     "data": {
      "text/plain": [
       "array([False, False,  True])"
      ]
     },
     "execution_count": 36,
     "metadata": {},
     "output_type": "execute_result"
    }
   ],
   "source": [
    "pd.isnull(idx)"
   ]
  },
  {
   "cell_type": "markdown",
   "id": "a3d054e8-aabe-4126-95b6-ed9bbc5b7f5e",
   "metadata": {},
   "source": [
    "# Basics about time series"
   ]
  },
  {
   "cell_type": "code",
   "execution_count": 37,
   "id": "4270dcb4-d6f1-42a4-8a81-9065c6606422",
   "metadata": {},
   "outputs": [],
   "source": [
    "from datetime import datetime"
   ]
  },
  {
   "cell_type": "code",
   "execution_count": null,
   "id": "40bc430c-ca35-464b-bf6b-9eb8068b1a34",
   "metadata": {},
   "outputs": [],
   "source": []
  }
 ],
 "metadata": {
  "kernelspec": {
   "display_name": "Python 3 (ipykernel)",
   "language": "python",
   "name": "python3"
  },
  "language_info": {
   "codemirror_mode": {
    "name": "ipython",
    "version": 3
   },
   "file_extension": ".py",
   "mimetype": "text/x-python",
   "name": "python",
   "nbconvert_exporter": "python",
   "pygments_lexer": "ipython3",
   "version": "3.11.5"
  }
 },
 "nbformat": 4,
 "nbformat_minor": 5
}
