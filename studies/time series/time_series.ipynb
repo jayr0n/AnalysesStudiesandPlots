{
 "cells": [
  {
   "cell_type": "markdown",
   "id": "5b8caf90-b712-4f82-b532-064d69c14805",
   "metadata": {},
   "source": [
    "# type of datas and tools for date and time"
   ]
  },
  {
   "cell_type": "code",
   "execution_count": 31,
   "id": "9ac1f098-84a4-48aa-a475-9f9e32f80e43",
   "metadata": {},
   "outputs": [],
   "source": [
    "from datetime import datetime\n",
    "import pandas as pd"
   ]
  },
  {
   "cell_type": "code",
   "execution_count": 2,
   "id": "84111ce1-1242-46cd-a0cb-9928668b8365",
   "metadata": {},
   "outputs": [
    {
     "data": {
      "text/plain": [
       "datetime.datetime(2023, 12, 16, 20, 24, 5, 127059)"
      ]
     },
     "execution_count": 2,
     "metadata": {},
     "output_type": "execute_result"
    }
   ],
   "source": [
    "now = datetime.now()\n",
    "\n",
    "now"
   ]
  },
  {
   "cell_type": "code",
   "execution_count": 3,
   "id": "0c3c54eb-afb5-4877-826c-34251ee9a705",
   "metadata": {},
   "outputs": [
    {
     "data": {
      "text/plain": [
       "(2023, 12, 16)"
      ]
     },
     "execution_count": 3,
     "metadata": {},
     "output_type": "execute_result"
    }
   ],
   "source": [
    "now.year, now.month, now.day"
   ]
  },
  {
   "cell_type": "code",
   "execution_count": 4,
   "id": "cd1147da-e45a-4d00-b304-61a66cdf81ab",
   "metadata": {},
   "outputs": [],
   "source": [
    "delta = datetime(2011, 1, 7) - datetime(2008, 6, 24, 8, 15)"
   ]
  },
  {
   "cell_type": "code",
   "execution_count": 5,
   "id": "2251d43d-5f3f-44d5-bd64-b1d9a756232c",
   "metadata": {},
   "outputs": [
    {
     "data": {
      "text/plain": [
       "datetime.timedelta(days=926, seconds=56700)"
      ]
     },
     "execution_count": 5,
     "metadata": {},
     "output_type": "execute_result"
    }
   ],
   "source": [
    "delta"
   ]
  },
  {
   "cell_type": "code",
   "execution_count": 6,
   "id": "5d24d5da-dc08-4423-bd9a-6753b3263489",
   "metadata": {},
   "outputs": [
    {
     "data": {
      "text/plain": [
       "926"
      ]
     },
     "execution_count": 6,
     "metadata": {},
     "output_type": "execute_result"
    }
   ],
   "source": [
    "delta.days"
   ]
  },
  {
   "cell_type": "code",
   "execution_count": 7,
   "id": "d7c282e8-6921-4c96-9c63-46bde3671ed9",
   "metadata": {},
   "outputs": [
    {
     "data": {
      "text/plain": [
       "56700"
      ]
     },
     "execution_count": 7,
     "metadata": {},
     "output_type": "execute_result"
    }
   ],
   "source": [
    "delta.seconds"
   ]
  },
  {
   "cell_type": "markdown",
   "id": "08560792-b697-49b0-b0ab-d3ebd2e2e5c0",
   "metadata": {},
   "source": [
    "### we can do sum, mult or sub from datetime"
   ]
  },
  {
   "cell_type": "code",
   "execution_count": 8,
   "id": "06991a1c-b9c6-4193-8cc4-687e646dc061",
   "metadata": {},
   "outputs": [],
   "source": [
    "from datetime import timedelta"
   ]
  },
  {
   "cell_type": "code",
   "execution_count": 9,
   "id": "7f0adfde-592f-4011-9053-21684167d93a",
   "metadata": {},
   "outputs": [],
   "source": [
    "start = datetime(2011, 1, 7)"
   ]
  },
  {
   "cell_type": "code",
   "execution_count": 10,
   "id": "2f302613-f273-44e3-bf52-a66cbfc75187",
   "metadata": {},
   "outputs": [
    {
     "data": {
      "text/plain": [
       "datetime.datetime(2011, 1, 19, 0, 0)"
      ]
     },
     "execution_count": 10,
     "metadata": {},
     "output_type": "execute_result"
    }
   ],
   "source": [
    "start + timedelta(12)"
   ]
  },
  {
   "cell_type": "code",
   "execution_count": 11,
   "id": "3ca684a3-bbe6-49a9-88fe-c98a41d9d854",
   "metadata": {},
   "outputs": [
    {
     "data": {
      "text/plain": [
       "datetime.datetime(2010, 12, 14, 0, 0)"
      ]
     },
     "execution_count": 11,
     "metadata": {},
     "output_type": "execute_result"
    }
   ],
   "source": [
    "start - 2 * timedelta(12)"
   ]
  },
  {
   "cell_type": "markdown",
   "id": "7f4788a5-af16-4f60-8064-c2fd28dc6c54",
   "metadata": {},
   "source": [
    "## conversion between string and datetime"
   ]
  },
  {
   "cell_type": "code",
   "execution_count": 13,
   "id": "7998630f-3c82-4294-8f10-0d67f0b0a491",
   "metadata": {},
   "outputs": [],
   "source": [
    "stamp = datetime(2011, 1, 3)"
   ]
  },
  {
   "cell_type": "code",
   "execution_count": 14,
   "id": "ca293dd0-3218-4a33-8a15-9acbeee2eec2",
   "metadata": {},
   "outputs": [
    {
     "data": {
      "text/plain": [
       "'2011-01-03 00:00:00'"
      ]
     },
     "execution_count": 14,
     "metadata": {},
     "output_type": "execute_result"
    }
   ],
   "source": [
    "str(stamp)"
   ]
  },
  {
   "cell_type": "code",
   "execution_count": 18,
   "id": "c7c608c9-6b9d-4d7f-bfb6-79683fa3bda1",
   "metadata": {},
   "outputs": [
    {
     "data": {
      "text/plain": [
       "'2011-01-03'"
      ]
     },
     "execution_count": 18,
     "metadata": {},
     "output_type": "execute_result"
    }
   ],
   "source": [
    "stamp.strftime('%Y-%m-%d')"
   ]
  },
  {
   "cell_type": "code",
   "execution_count": 19,
   "id": "6d888726-af3f-4fba-8a5e-fcc78df508c2",
   "metadata": {},
   "outputs": [],
   "source": [
    "value = '2014-01-05'"
   ]
  },
  {
   "cell_type": "code",
   "execution_count": 21,
   "id": "405d5219-c840-4bb4-bd18-7cdacd0a967b",
   "metadata": {},
   "outputs": [
    {
     "data": {
      "text/plain": [
       "datetime.datetime(2014, 1, 5, 0, 0)"
      ]
     },
     "execution_count": 21,
     "metadata": {},
     "output_type": "execute_result"
    }
   ],
   "source": [
    "datetime.strptime(value, '%Y-%m-%d')"
   ]
  },
  {
   "cell_type": "code",
   "execution_count": 22,
   "id": "36231dfc-0c50-4d20-b9ce-b8f806f71d04",
   "metadata": {},
   "outputs": [],
   "source": [
    "datestrs = ['7/6/2001', '8/2/2004']"
   ]
  },
  {
   "cell_type": "code",
   "execution_count": 25,
   "id": "4c0b6a4d-804a-409f-a73a-e65ff11d75a4",
   "metadata": {},
   "outputs": [
    {
     "data": {
      "text/plain": [
       "[datetime.datetime(2001, 7, 6, 0, 0), datetime.datetime(2004, 8, 2, 0, 0)]"
      ]
     },
     "execution_count": 25,
     "metadata": {},
     "output_type": "execute_result"
    }
   ],
   "source": [
    "[datetime.strptime(x, '%m/%d/%Y') for x in datestrs]"
   ]
  },
  {
   "cell_type": "code",
   "execution_count": 26,
   "id": "8a3bfc8c-86e1-4c73-a6b9-14cb4287bfb3",
   "metadata": {},
   "outputs": [],
   "source": [
    "from dateutil.parser import parse"
   ]
  },
  {
   "cell_type": "code",
   "execution_count": 27,
   "id": "651b89a6-9006-404c-a738-6ae17cd79eb0",
   "metadata": {},
   "outputs": [
    {
     "data": {
      "text/plain": [
       "datetime.datetime(2005, 10, 3, 0, 0)"
      ]
     },
     "execution_count": 27,
     "metadata": {},
     "output_type": "execute_result"
    }
   ],
   "source": [
    "parse('2005-10-03')"
   ]
  },
  {
   "cell_type": "code",
   "execution_count": 28,
   "id": "2448242f-31a8-43df-b57c-2c1eddd027aa",
   "metadata": {},
   "outputs": [
    {
     "data": {
      "text/plain": [
       "datetime.datetime(1987, 1, 23, 20, 31)"
      ]
     },
     "execution_count": 28,
     "metadata": {},
     "output_type": "execute_result"
    }
   ],
   "source": [
    "parse('Jan 23, 1987 08:31 PM')"
   ]
  },
  {
   "cell_type": "code",
   "execution_count": 29,
   "id": "3a9922ef-6c73-41d2-ba7f-beed2ca05931",
   "metadata": {},
   "outputs": [
    {
     "data": {
      "text/plain": [
       "datetime.datetime(2001, 5, 4, 0, 0)"
      ]
     },
     "execution_count": 29,
     "metadata": {},
     "output_type": "execute_result"
    }
   ],
   "source": [
    "parse('04/05/2001', dayfirst=True)"
   ]
  },
  {
   "cell_type": "code",
   "execution_count": 30,
   "id": "1e958e38-4092-4270-947d-e1edc6575900",
   "metadata": {},
   "outputs": [],
   "source": [
    "datestrs = ['2011-07-06 12:00:00', '2011-08-06 00:00:00']"
   ]
  },
  {
   "cell_type": "code",
   "execution_count": 32,
   "id": "592be56d-4f2a-472a-b1b5-540ca6683024",
   "metadata": {},
   "outputs": [
    {
     "data": {
      "text/plain": [
       "DatetimeIndex(['2011-07-06 12:00:00', '2011-08-06 00:00:00'], dtype='datetime64[ns]', freq=None)"
      ]
     },
     "execution_count": 32,
     "metadata": {},
     "output_type": "execute_result"
    }
   ],
   "source": [
    "pd.to_datetime(datestrs)"
   ]
  },
  {
   "cell_type": "code",
   "execution_count": 33,
   "id": "7a0dcc09-70f8-4848-acb1-3a3b1bd61522",
   "metadata": {},
   "outputs": [],
   "source": [
    "idx = pd.to_datetime(datestrs + [None])"
   ]
  },
  {
   "cell_type": "code",
   "execution_count": 34,
   "id": "5f92d496-96a5-484d-84e9-d862eabc7d35",
   "metadata": {},
   "outputs": [
    {
     "data": {
      "text/plain": [
       "DatetimeIndex(['2011-07-06 12:00:00', '2011-08-06 00:00:00', 'NaT'], dtype='datetime64[ns]', freq=None)"
      ]
     },
     "execution_count": 34,
     "metadata": {},
     "output_type": "execute_result"
    }
   ],
   "source": [
    "idx"
   ]
  },
  {
   "cell_type": "code",
   "execution_count": 35,
   "id": "e20c98df-08c2-4092-84f6-b4cadb133c06",
   "metadata": {},
   "outputs": [
    {
     "data": {
      "text/plain": [
       "NaT"
      ]
     },
     "execution_count": 35,
     "metadata": {},
     "output_type": "execute_result"
    }
   ],
   "source": [
    "idx[2]"
   ]
  },
  {
   "cell_type": "code",
   "execution_count": 36,
   "id": "1804f32f-e16b-4e39-9e25-8297c22ba6ef",
   "metadata": {},
   "outputs": [
    {
     "data": {
      "text/plain": [
       "array([False, False,  True])"
      ]
     },
     "execution_count": 36,
     "metadata": {},
     "output_type": "execute_result"
    }
   ],
   "source": [
    "pd.isnull(idx)"
   ]
  },
  {
   "cell_type": "markdown",
   "id": "a3d054e8-aabe-4126-95b6-ed9bbc5b7f5e",
   "metadata": {},
   "source": [
    "# Basics about time series"
   ]
  },
  {
   "cell_type": "code",
   "execution_count": 41,
   "id": "4270dcb4-d6f1-42a4-8a81-9065c6606422",
   "metadata": {},
   "outputs": [],
   "source": [
    "from datetime import datetime\n",
    "import numpy as np"
   ]
  },
  {
   "cell_type": "code",
   "execution_count": 44,
   "id": "40bc430c-ca35-464b-bf6b-9eb8068b1a34",
   "metadata": {},
   "outputs": [],
   "source": [
    "dates = [datetime(2011, 1, 2), datetime(2011, 1, 5),\n",
    "         datetime(2011, 1, 7), datetime(2011, 1, 8),\n",
    "         datetime(2011, 1, 10), datetime(2011, 1, 12)]"
   ]
  },
  {
   "cell_type": "code",
   "execution_count": 45,
   "id": "483ae8ae-0501-4690-a35b-e941b27e6af3",
   "metadata": {},
   "outputs": [
    {
     "data": {
      "text/plain": [
       "[datetime.datetime(2011, 1, 2, 0, 0),\n",
       " datetime.datetime(2011, 1, 5, 0, 0),\n",
       " datetime.datetime(2011, 1, 7, 0, 0),\n",
       " datetime.datetime(2011, 1, 8, 0, 0),\n",
       " datetime.datetime(2011, 1, 10, 0, 0),\n",
       " datetime.datetime(2011, 1, 12, 0, 0)]"
      ]
     },
     "execution_count": 45,
     "metadata": {},
     "output_type": "execute_result"
    }
   ],
   "source": [
    "dates"
   ]
  },
  {
   "cell_type": "code",
   "execution_count": 46,
   "id": "35026629-6463-4168-b000-cc6fe482ea40",
   "metadata": {},
   "outputs": [],
   "source": [
    "ts = pd.Series(np.random.randn(6), index=dates)"
   ]
  },
  {
   "cell_type": "code",
   "execution_count": 47,
   "id": "c90ed081-9c6c-4346-8050-691abac764ab",
   "metadata": {},
   "outputs": [
    {
     "data": {
      "text/plain": [
       "2011-01-02   -0.701957\n",
       "2011-01-05    0.146683\n",
       "2011-01-07    0.049474\n",
       "2011-01-08    0.116163\n",
       "2011-01-10    0.967597\n",
       "2011-01-12    0.549301\n",
       "dtype: float64"
      ]
     },
     "execution_count": 47,
     "metadata": {},
     "output_type": "execute_result"
    }
   ],
   "source": [
    "ts"
   ]
  },
  {
   "cell_type": "code",
   "execution_count": 48,
   "id": "c8de1016-1e50-4dd4-9421-d0cb46c144f2",
   "metadata": {},
   "outputs": [
    {
     "data": {
      "text/plain": [
       "DatetimeIndex(['2011-01-02', '2011-01-05', '2011-01-07', '2011-01-08',\n",
       "               '2011-01-10', '2011-01-12'],\n",
       "              dtype='datetime64[ns]', freq=None)"
      ]
     },
     "execution_count": 48,
     "metadata": {},
     "output_type": "execute_result"
    }
   ],
   "source": [
    "ts.index"
   ]
  },
  {
   "cell_type": "code",
   "execution_count": 49,
   "id": "1c06a42c-33a4-4256-938b-0b95a7c2b7cd",
   "metadata": {},
   "outputs": [
    {
     "data": {
      "text/plain": [
       "2011-01-02   -1.403915\n",
       "2011-01-05         NaN\n",
       "2011-01-07    0.098949\n",
       "2011-01-08         NaN\n",
       "2011-01-10    1.935195\n",
       "2011-01-12         NaN\n",
       "dtype: float64"
      ]
     },
     "execution_count": 49,
     "metadata": {},
     "output_type": "execute_result"
    }
   ],
   "source": [
    "ts + ts[::2]"
   ]
  },
  {
   "cell_type": "code",
   "execution_count": 51,
   "id": "f4bdf4f0-2400-4813-99b6-0ff0a7c2d661",
   "metadata": {},
   "outputs": [
    {
     "data": {
      "text/plain": [
       "dtype('<M8[ns]')"
      ]
     },
     "execution_count": 51,
     "metadata": {},
     "output_type": "execute_result"
    }
   ],
   "source": [
    "ts.index.dtype"
   ]
  },
  {
   "cell_type": "code",
   "execution_count": 52,
   "id": "aa743ac2-20f6-471d-8e0d-772f991a1c46",
   "metadata": {},
   "outputs": [],
   "source": [
    "stamp = ts.index[0]"
   ]
  },
  {
   "cell_type": "code",
   "execution_count": 53,
   "id": "5ca228f3-e062-454c-bdbf-9434b34bae61",
   "metadata": {},
   "outputs": [
    {
     "data": {
      "text/plain": [
       "Timestamp('2011-01-02 00:00:00')"
      ]
     },
     "execution_count": 53,
     "metadata": {},
     "output_type": "execute_result"
    }
   ],
   "source": [
    "stamp"
   ]
  },
  {
   "cell_type": "markdown",
   "id": "e6266b02-7f20-4697-ba55-0f8ed20486cb",
   "metadata": {},
   "source": [
    "# Indexing, selection and generation of subsets"
   ]
  },
  {
   "cell_type": "code",
   "execution_count": 54,
   "id": "31734284-a1ac-4068-8733-9abf0757032d",
   "metadata": {},
   "outputs": [],
   "source": [
    "stamp = ts.index[2]"
   ]
  },
  {
   "cell_type": "code",
   "execution_count": 56,
   "id": "e093a24e-e044-427d-a648-7213d449de00",
   "metadata": {},
   "outputs": [
    {
     "data": {
      "text/plain": [
       "0.049474428249271805"
      ]
     },
     "execution_count": 56,
     "metadata": {},
     "output_type": "execute_result"
    }
   ],
   "source": [
    "ts[stamp]"
   ]
  },
  {
   "cell_type": "code",
   "execution_count": 57,
   "id": "5d2fb103-3193-4353-b096-ea254ef8adf8",
   "metadata": {},
   "outputs": [
    {
     "data": {
      "text/plain": [
       "0.9675974645537238"
      ]
     },
     "execution_count": 57,
     "metadata": {},
     "output_type": "execute_result"
    }
   ],
   "source": [
    "ts['1/10/2011']"
   ]
  },
  {
   "cell_type": "code",
   "execution_count": 58,
   "id": "805d87c3-7d4f-4251-91c7-83cf1c583d81",
   "metadata": {},
   "outputs": [
    {
     "data": {
      "text/plain": [
       "0.9675974645537238"
      ]
     },
     "execution_count": 58,
     "metadata": {},
     "output_type": "execute_result"
    }
   ],
   "source": [
    "ts['20110110']"
   ]
  },
  {
   "cell_type": "code",
   "execution_count": 60,
   "id": "4f765ddf-03b3-4769-8e9a-df87a1d16c13",
   "metadata": {},
   "outputs": [],
   "source": [
    "longer_ts = pd.Series(np.random.randn(1000), \n",
    "                      index=pd.date_range('1/1/2000', periods=1000))"
   ]
  },
  {
   "cell_type": "code",
   "execution_count": 61,
   "id": "95fca45e-5721-43c8-9469-7140b013ff95",
   "metadata": {},
   "outputs": [
    {
     "data": {
      "text/plain": [
       "2000-01-01    1.686428\n",
       "2000-01-02    2.344407\n",
       "2000-01-03    0.561269\n",
       "2000-01-04    0.745338\n",
       "2000-01-05   -1.712539\n",
       "                ...   \n",
       "2002-09-22    1.381219\n",
       "2002-09-23   -0.888535\n",
       "2002-09-24   -2.315309\n",
       "2002-09-25    0.129366\n",
       "2002-09-26   -1.728088\n",
       "Freq: D, Length: 1000, dtype: float64"
      ]
     },
     "execution_count": 61,
     "metadata": {},
     "output_type": "execute_result"
    }
   ],
   "source": [
    "longer_ts"
   ]
  },
  {
   "cell_type": "code",
   "execution_count": 62,
   "id": "4fff1833-dc6f-4e07-a9d6-2ba60e5c8fb7",
   "metadata": {},
   "outputs": [
    {
     "data": {
      "text/plain": [
       "2001-01-01   -0.074962\n",
       "2001-01-02   -0.045572\n",
       "2001-01-03   -0.997197\n",
       "2001-01-04    0.692548\n",
       "2001-01-05   -1.471048\n",
       "                ...   \n",
       "2001-12-27   -0.191306\n",
       "2001-12-28    0.166633\n",
       "2001-12-29    1.870571\n",
       "2001-12-30    0.963967\n",
       "2001-12-31   -1.676432\n",
       "Freq: D, Length: 365, dtype: float64"
      ]
     },
     "execution_count": 62,
     "metadata": {},
     "output_type": "execute_result"
    }
   ],
   "source": [
    "longer_ts['2001']"
   ]
  },
  {
   "cell_type": "code",
   "execution_count": 65,
   "id": "a01c7730-f897-4570-b16e-0c68475a9577",
   "metadata": {},
   "outputs": [
    {
     "data": {
      "text/plain": [
       "2001-05-01    0.030358\n",
       "2001-05-02   -0.486717\n",
       "2001-05-03    0.430115\n",
       "2001-05-04    0.172492\n",
       "2001-05-05   -2.397621\n",
       "2001-05-06   -0.181273\n",
       "2001-05-07    0.340808\n",
       "2001-05-08    1.302046\n",
       "2001-05-09   -1.200169\n",
       "2001-05-10   -0.079993\n",
       "2001-05-11    0.010712\n",
       "2001-05-12    0.189204\n",
       "2001-05-13    0.649148\n",
       "2001-05-14   -0.249260\n",
       "2001-05-15    2.691187\n",
       "2001-05-16    0.426688\n",
       "2001-05-17   -0.114991\n",
       "2001-05-18    0.229189\n",
       "2001-05-19    0.673246\n",
       "2001-05-20   -2.256392\n",
       "2001-05-21   -0.512525\n",
       "2001-05-22   -0.420850\n",
       "2001-05-23   -0.926045\n",
       "2001-05-24    1.259494\n",
       "2001-05-25    0.219852\n",
       "2001-05-26    0.395901\n",
       "2001-05-27    0.548964\n",
       "2001-05-28    0.775034\n",
       "2001-05-29    0.730190\n",
       "2001-05-30    0.695832\n",
       "2001-05-31    0.122485\n",
       "Freq: D, dtype: float64"
      ]
     },
     "execution_count": 65,
     "metadata": {},
     "output_type": "execute_result"
    }
   ],
   "source": [
    "longer_ts['2001-05']"
   ]
  },
  {
   "cell_type": "code",
   "execution_count": 66,
   "id": "7b432f23-a572-4d9c-864f-fef7eb722c34",
   "metadata": {},
   "outputs": [
    {
     "data": {
      "text/plain": [
       "2011-01-07    0.049474\n",
       "2011-01-08    0.116163\n",
       "2011-01-10    0.967597\n",
       "2011-01-12    0.549301\n",
       "dtype: float64"
      ]
     },
     "execution_count": 66,
     "metadata": {},
     "output_type": "execute_result"
    }
   ],
   "source": [
    "ts[datetime(2011, 1, 7):]"
   ]
  },
  {
   "cell_type": "code",
   "execution_count": 68,
   "id": "19161e47-e1a6-462f-ae33-6e6fc6b0eb96",
   "metadata": {},
   "outputs": [
    {
     "data": {
      "text/plain": [
       "2011-01-02   -0.701957\n",
       "2011-01-05    0.146683\n",
       "2011-01-07    0.049474\n",
       "2011-01-08    0.116163\n",
       "2011-01-10    0.967597\n",
       "2011-01-12    0.549301\n",
       "dtype: float64"
      ]
     },
     "execution_count": 68,
     "metadata": {},
     "output_type": "execute_result"
    }
   ],
   "source": [
    "ts"
   ]
  },
  {
   "cell_type": "code",
   "execution_count": 70,
   "id": "a46a1493-6823-43a8-9fba-de8132e62348",
   "metadata": {},
   "outputs": [
    {
     "data": {
      "text/plain": [
       "2011-01-02   -0.701957\n",
       "2011-01-05    0.146683\n",
       "2011-01-07    0.049474\n",
       "2011-01-08    0.116163\n",
       "dtype: float64"
      ]
     },
     "execution_count": 70,
     "metadata": {},
     "output_type": "execute_result"
    }
   ],
   "source": [
    "ts['1/2/2011':'1/8/2011']"
   ]
  },
  {
   "cell_type": "code",
   "execution_count": 72,
   "id": "17c8142a-a9ae-4c63-b799-b4a89db49b52",
   "metadata": {},
   "outputs": [
    {
     "data": {
      "text/plain": [
       "2011-01-02   -0.701957\n",
       "2011-01-05    0.146683\n",
       "2011-01-07    0.049474\n",
       "2011-01-08    0.116163\n",
       "dtype: float64"
      ]
     },
     "execution_count": 72,
     "metadata": {},
     "output_type": "execute_result"
    }
   ],
   "source": [
    "ts.truncate(after='1/9/2011')"
   ]
  },
  {
   "cell_type": "markdown",
   "id": "c29809b5-6643-4602-b649-059da36f3dd9",
   "metadata": {},
   "source": [
    "## You can use it in Dataframes as well"
   ]
  },
  {
   "cell_type": "code",
   "execution_count": 73,
   "id": "bbc27649-2d22-4e5f-aab9-32b391804f0a",
   "metadata": {},
   "outputs": [],
   "source": [
    "dates = pd.date_range('1/1/2000', periods=100, freq='W-WED')"
   ]
  },
  {
   "cell_type": "code",
   "execution_count": 74,
   "id": "77c63a99-f434-4ca3-910a-07ba5615f30f",
   "metadata": {},
   "outputs": [
    {
     "data": {
      "text/plain": [
       "DatetimeIndex(['2000-01-05', '2000-01-12', '2000-01-19', '2000-01-26',\n",
       "               '2000-02-02', '2000-02-09', '2000-02-16', '2000-02-23',\n",
       "               '2000-03-01', '2000-03-08', '2000-03-15', '2000-03-22',\n",
       "               '2000-03-29', '2000-04-05', '2000-04-12', '2000-04-19',\n",
       "               '2000-04-26', '2000-05-03', '2000-05-10', '2000-05-17',\n",
       "               '2000-05-24', '2000-05-31', '2000-06-07', '2000-06-14',\n",
       "               '2000-06-21', '2000-06-28', '2000-07-05', '2000-07-12',\n",
       "               '2000-07-19', '2000-07-26', '2000-08-02', '2000-08-09',\n",
       "               '2000-08-16', '2000-08-23', '2000-08-30', '2000-09-06',\n",
       "               '2000-09-13', '2000-09-20', '2000-09-27', '2000-10-04',\n",
       "               '2000-10-11', '2000-10-18', '2000-10-25', '2000-11-01',\n",
       "               '2000-11-08', '2000-11-15', '2000-11-22', '2000-11-29',\n",
       "               '2000-12-06', '2000-12-13', '2000-12-20', '2000-12-27',\n",
       "               '2001-01-03', '2001-01-10', '2001-01-17', '2001-01-24',\n",
       "               '2001-01-31', '2001-02-07', '2001-02-14', '2001-02-21',\n",
       "               '2001-02-28', '2001-03-07', '2001-03-14', '2001-03-21',\n",
       "               '2001-03-28', '2001-04-04', '2001-04-11', '2001-04-18',\n",
       "               '2001-04-25', '2001-05-02', '2001-05-09', '2001-05-16',\n",
       "               '2001-05-23', '2001-05-30', '2001-06-06', '2001-06-13',\n",
       "               '2001-06-20', '2001-06-27', '2001-07-04', '2001-07-11',\n",
       "               '2001-07-18', '2001-07-25', '2001-08-01', '2001-08-08',\n",
       "               '2001-08-15', '2001-08-22', '2001-08-29', '2001-09-05',\n",
       "               '2001-09-12', '2001-09-19', '2001-09-26', '2001-10-03',\n",
       "               '2001-10-10', '2001-10-17', '2001-10-24', '2001-10-31',\n",
       "               '2001-11-07', '2001-11-14', '2001-11-21', '2001-11-28'],\n",
       "              dtype='datetime64[ns]', freq='W-WED')"
      ]
     },
     "execution_count": 74,
     "metadata": {},
     "output_type": "execute_result"
    }
   ],
   "source": [
    "dates"
   ]
  },
  {
   "cell_type": "code",
   "execution_count": 75,
   "id": "66f17e9f-42ed-415b-a5e8-56798f56f6dc",
   "metadata": {},
   "outputs": [],
   "source": [
    "long_df = pd.DataFrame(np.random.randn(100, 4), index=dates, columns=['SP', 'PE', 'BA', 'RJ'])"
   ]
  },
  {
   "cell_type": "code",
   "execution_count": 76,
   "id": "34fc3bd8-a2d3-4098-998b-63aebb7b4efb",
   "metadata": {},
   "outputs": [
    {
     "data": {
      "text/html": [
       "<div>\n",
       "<style scoped>\n",
       "    .dataframe tbody tr th:only-of-type {\n",
       "        vertical-align: middle;\n",
       "    }\n",
       "\n",
       "    .dataframe tbody tr th {\n",
       "        vertical-align: top;\n",
       "    }\n",
       "\n",
       "    .dataframe thead th {\n",
       "        text-align: right;\n",
       "    }\n",
       "</style>\n",
       "<table border=\"1\" class=\"dataframe\">\n",
       "  <thead>\n",
       "    <tr style=\"text-align: right;\">\n",
       "      <th></th>\n",
       "      <th>SP</th>\n",
       "      <th>PE</th>\n",
       "      <th>BA</th>\n",
       "      <th>RJ</th>\n",
       "    </tr>\n",
       "  </thead>\n",
       "  <tbody>\n",
       "    <tr>\n",
       "      <th>2000-01-05</th>\n",
       "      <td>-1.887537</td>\n",
       "      <td>0.020472</td>\n",
       "      <td>0.330545</td>\n",
       "      <td>-0.904534</td>\n",
       "    </tr>\n",
       "    <tr>\n",
       "      <th>2000-01-12</th>\n",
       "      <td>-1.742825</td>\n",
       "      <td>-0.393343</td>\n",
       "      <td>-0.268843</td>\n",
       "      <td>2.099011</td>\n",
       "    </tr>\n",
       "    <tr>\n",
       "      <th>2000-01-19</th>\n",
       "      <td>0.637088</td>\n",
       "      <td>-1.070478</td>\n",
       "      <td>-0.718135</td>\n",
       "      <td>-0.382335</td>\n",
       "    </tr>\n",
       "    <tr>\n",
       "      <th>2000-01-26</th>\n",
       "      <td>0.624847</td>\n",
       "      <td>1.118048</td>\n",
       "      <td>1.661265</td>\n",
       "      <td>-1.411199</td>\n",
       "    </tr>\n",
       "    <tr>\n",
       "      <th>2000-02-02</th>\n",
       "      <td>-0.832674</td>\n",
       "      <td>2.453654</td>\n",
       "      <td>-0.169162</td>\n",
       "      <td>-0.460395</td>\n",
       "    </tr>\n",
       "    <tr>\n",
       "      <th>...</th>\n",
       "      <td>...</td>\n",
       "      <td>...</td>\n",
       "      <td>...</td>\n",
       "      <td>...</td>\n",
       "    </tr>\n",
       "    <tr>\n",
       "      <th>2001-10-31</th>\n",
       "      <td>-1.366952</td>\n",
       "      <td>0.582982</td>\n",
       "      <td>-0.096415</td>\n",
       "      <td>-0.560480</td>\n",
       "    </tr>\n",
       "    <tr>\n",
       "      <th>2001-11-07</th>\n",
       "      <td>0.348122</td>\n",
       "      <td>1.016142</td>\n",
       "      <td>1.195730</td>\n",
       "      <td>-0.591810</td>\n",
       "    </tr>\n",
       "    <tr>\n",
       "      <th>2001-11-14</th>\n",
       "      <td>-0.431549</td>\n",
       "      <td>1.487987</td>\n",
       "      <td>-0.332073</td>\n",
       "      <td>-1.410208</td>\n",
       "    </tr>\n",
       "    <tr>\n",
       "      <th>2001-11-21</th>\n",
       "      <td>-0.718840</td>\n",
       "      <td>-1.288410</td>\n",
       "      <td>-1.265072</td>\n",
       "      <td>1.774499</td>\n",
       "    </tr>\n",
       "    <tr>\n",
       "      <th>2001-11-28</th>\n",
       "      <td>-0.192773</td>\n",
       "      <td>-0.719719</td>\n",
       "      <td>0.026862</td>\n",
       "      <td>-0.364396</td>\n",
       "    </tr>\n",
       "  </tbody>\n",
       "</table>\n",
       "<p>100 rows × 4 columns</p>\n",
       "</div>"
      ],
      "text/plain": [
       "                  SP        PE        BA        RJ\n",
       "2000-01-05 -1.887537  0.020472  0.330545 -0.904534\n",
       "2000-01-12 -1.742825 -0.393343 -0.268843  2.099011\n",
       "2000-01-19  0.637088 -1.070478 -0.718135 -0.382335\n",
       "2000-01-26  0.624847  1.118048  1.661265 -1.411199\n",
       "2000-02-02 -0.832674  2.453654 -0.169162 -0.460395\n",
       "...              ...       ...       ...       ...\n",
       "2001-10-31 -1.366952  0.582982 -0.096415 -0.560480\n",
       "2001-11-07  0.348122  1.016142  1.195730 -0.591810\n",
       "2001-11-14 -0.431549  1.487987 -0.332073 -1.410208\n",
       "2001-11-21 -0.718840 -1.288410 -1.265072  1.774499\n",
       "2001-11-28 -0.192773 -0.719719  0.026862 -0.364396\n",
       "\n",
       "[100 rows x 4 columns]"
      ]
     },
     "execution_count": 76,
     "metadata": {},
     "output_type": "execute_result"
    }
   ],
   "source": [
    "long_df"
   ]
  },
  {
   "cell_type": "code",
   "execution_count": 79,
   "id": "4affe208-c3c2-4c57-b4e8-c6ea83539611",
   "metadata": {},
   "outputs": [
    {
     "data": {
      "text/html": [
       "<div>\n",
       "<style scoped>\n",
       "    .dataframe tbody tr th:only-of-type {\n",
       "        vertical-align: middle;\n",
       "    }\n",
       "\n",
       "    .dataframe tbody tr th {\n",
       "        vertical-align: top;\n",
       "    }\n",
       "\n",
       "    .dataframe thead th {\n",
       "        text-align: right;\n",
       "    }\n",
       "</style>\n",
       "<table border=\"1\" class=\"dataframe\">\n",
       "  <thead>\n",
       "    <tr style=\"text-align: right;\">\n",
       "      <th></th>\n",
       "      <th>SP</th>\n",
       "      <th>PE</th>\n",
       "      <th>BA</th>\n",
       "      <th>RJ</th>\n",
       "    </tr>\n",
       "  </thead>\n",
       "  <tbody>\n",
       "    <tr>\n",
       "      <th>2001-05-02</th>\n",
       "      <td>-1.093345</td>\n",
       "      <td>0.030116</td>\n",
       "      <td>-0.482647</td>\n",
       "      <td>1.293262</td>\n",
       "    </tr>\n",
       "    <tr>\n",
       "      <th>2001-05-09</th>\n",
       "      <td>-1.327504</td>\n",
       "      <td>0.245911</td>\n",
       "      <td>-0.222600</td>\n",
       "      <td>-0.413712</td>\n",
       "    </tr>\n",
       "    <tr>\n",
       "      <th>2001-05-16</th>\n",
       "      <td>0.401895</td>\n",
       "      <td>0.123514</td>\n",
       "      <td>-1.204360</td>\n",
       "      <td>-0.547278</td>\n",
       "    </tr>\n",
       "    <tr>\n",
       "      <th>2001-05-23</th>\n",
       "      <td>-1.383113</td>\n",
       "      <td>-0.448157</td>\n",
       "      <td>0.494512</td>\n",
       "      <td>-0.478459</td>\n",
       "    </tr>\n",
       "    <tr>\n",
       "      <th>2001-05-30</th>\n",
       "      <td>0.120219</td>\n",
       "      <td>-0.439205</td>\n",
       "      <td>0.192256</td>\n",
       "      <td>-1.064298</td>\n",
       "    </tr>\n",
       "  </tbody>\n",
       "</table>\n",
       "</div>"
      ],
      "text/plain": [
       "                  SP        PE        BA        RJ\n",
       "2001-05-02 -1.093345  0.030116 -0.482647  1.293262\n",
       "2001-05-09 -1.327504  0.245911 -0.222600 -0.413712\n",
       "2001-05-16  0.401895  0.123514 -1.204360 -0.547278\n",
       "2001-05-23 -1.383113 -0.448157  0.494512 -0.478459\n",
       "2001-05-30  0.120219 -0.439205  0.192256 -1.064298"
      ]
     },
     "execution_count": 79,
     "metadata": {},
     "output_type": "execute_result"
    }
   ],
   "source": [
    "long_df.loc['5-2001']"
   ]
  },
  {
   "cell_type": "code",
   "execution_count": null,
   "id": "32d6a1ab-2788-48b9-9aa8-ab03bbc7aaae",
   "metadata": {},
   "outputs": [],
   "source": []
  }
 ],
 "metadata": {
  "kernelspec": {
   "display_name": "Python 3 (ipykernel)",
   "language": "python",
   "name": "python3"
  },
  "language_info": {
   "codemirror_mode": {
    "name": "ipython",
    "version": 3
   },
   "file_extension": ".py",
   "mimetype": "text/x-python",
   "name": "python",
   "nbconvert_exporter": "python",
   "pygments_lexer": "ipython3",
   "version": "3.11.5"
  }
 },
 "nbformat": 4,
 "nbformat_minor": 5
}
