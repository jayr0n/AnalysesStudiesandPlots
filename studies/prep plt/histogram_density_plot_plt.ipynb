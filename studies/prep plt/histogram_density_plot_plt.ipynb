{
 "cells": [
  {
   "cell_type": "code",
   "execution_count": 1,
   "id": "328f83c7-5f4b-445a-a448-345abb0a7ab4",
   "metadata": {},
   "outputs": [],
   "source": [
    "import pandas as pd\n",
    "import numpy as np\n",
    "import matplotlib.pyplot as plt"
   ]
  },
  {
   "cell_type": "code",
   "execution_count": 2,
   "id": "13eb4cee-9a98-4344-8646-438c7dfefb32",
   "metadata": {},
   "outputs": [
    {
     "data": {
      "text/html": [
       "<div>\n",
       "<style scoped>\n",
       "    .dataframe tbody tr th:only-of-type {\n",
       "        vertical-align: middle;\n",
       "    }\n",
       "\n",
       "    .dataframe tbody tr th {\n",
       "        vertical-align: top;\n",
       "    }\n",
       "\n",
       "    .dataframe thead th {\n",
       "        text-align: right;\n",
       "    }\n",
       "</style>\n",
       "<table border=\"1\" class=\"dataframe\">\n",
       "  <thead>\n",
       "    <tr style=\"text-align: right;\">\n",
       "      <th>size</th>\n",
       "      <th>2</th>\n",
       "      <th>3</th>\n",
       "      <th>4</th>\n",
       "      <th>5</th>\n",
       "    </tr>\n",
       "    <tr>\n",
       "      <th>day</th>\n",
       "      <th></th>\n",
       "      <th></th>\n",
       "      <th></th>\n",
       "      <th></th>\n",
       "    </tr>\n",
       "  </thead>\n",
       "  <tbody>\n",
       "    <tr>\n",
       "      <th>Fri</th>\n",
       "      <td>0.888889</td>\n",
       "      <td>0.055556</td>\n",
       "      <td>0.055556</td>\n",
       "      <td>0.000000</td>\n",
       "    </tr>\n",
       "    <tr>\n",
       "      <th>Sat</th>\n",
       "      <td>0.623529</td>\n",
       "      <td>0.211765</td>\n",
       "      <td>0.152941</td>\n",
       "      <td>0.011765</td>\n",
       "    </tr>\n",
       "    <tr>\n",
       "      <th>Sun</th>\n",
       "      <td>0.520000</td>\n",
       "      <td>0.200000</td>\n",
       "      <td>0.240000</td>\n",
       "      <td>0.040000</td>\n",
       "    </tr>\n",
       "    <tr>\n",
       "      <th>Thur</th>\n",
       "      <td>0.827586</td>\n",
       "      <td>0.068966</td>\n",
       "      <td>0.086207</td>\n",
       "      <td>0.017241</td>\n",
       "    </tr>\n",
       "  </tbody>\n",
       "</table>\n",
       "</div>"
      ],
      "text/plain": [
       "size         2         3         4         5\n",
       "day                                         \n",
       "Fri   0.888889  0.055556  0.055556  0.000000\n",
       "Sat   0.623529  0.211765  0.152941  0.011765\n",
       "Sun   0.520000  0.200000  0.240000  0.040000\n",
       "Thur  0.827586  0.068966  0.086207  0.017241"
      ]
     },
     "execution_count": 2,
     "metadata": {},
     "output_type": "execute_result"
    }
   ],
   "source": [
    "tips = pd.read_csv(\"https://raw.githubusercontent.com/wesm/pydata-book/3rd-edition/examples/tips.csv\")\n",
    "\n",
    "party_counts = pd.crosstab(tips['day'], tips['size'])\n",
    "\n",
    "# Como não há muitas pessoas em 1 e 6, usaremos apenas os valores de 2:5\n",
    "party_counts = party_counts.loc[:, 2:5]\n",
    "\n",
    "# Nomarlizando para que a soma seja 1 nas linhas axis = 0 (row), axis = 1 (column)\n",
    "party_pcts = party_counts.div(party_counts.sum(1), axis=0)\n",
    "\n",
    "party_pcts"
   ]
  },
  {
   "cell_type": "code",
   "execution_count": 5,
   "id": "3f3dcb37-d9e7-4fcf-a01b-7424b34119fb",
   "metadata": {},
   "outputs": [],
   "source": [
    "tips['tip_pct'] = tips['tip'] / (tips['total_bill'] -tips['tip'])"
   ]
  },
  {
   "cell_type": "code",
   "execution_count": 8,
   "id": "b243a409-f2dc-43ce-a6c7-c74bc37df1c1",
   "metadata": {},
   "outputs": [
    {
     "data": {
      "text/plain": [
       "<AxesSubplot:ylabel='Frequency'>"
      ]
     },
     "execution_count": 8,
     "metadata": {},
     "output_type": "execute_result"
    },
    {
     "data": {
      "image/png": "[encoded data removed]",
      "text/plain": [
       "<Figure size 576x432 with 1 Axes>"
      ]
     },
     "metadata": {
      "needs_background": "light"
     },
     "output_type": "display_data"
    }
   ],
   "source": [
    "plt.figure(figsize=(8,6))\n",
    "tips['tip_pct'].plot.hist(bins=50)"
   ]
  },
  {
   "cell_type": "code",
   "execution_count": 11,
   "id": "518a2c1f-a7b1-4132-9481-581849f2644a",
   "metadata": {},
   "outputs": [
    {
     "data": {
      "text/plain": [
       "<AxesSubplot:ylabel='Density'>"
      ]
     },
     "execution_count": 11,
     "metadata": {},
     "output_type": "execute_result"
    },
    {
     "data": {
      "image/png": "[encoded data removed]",
      "text/plain": [
       "<Figure size 576x432 with 1 Axes>"
      ]
     },
     "metadata": {
      "needs_background": "light"
     },
     "output_type": "display_data"
    }
   ],
   "source": [
    "plt.figure(figsize=(8,6))\n",
    "tips['tip_pct'].plot.density()"
   ]
  },
  {
   "cell_type": "code",
   "execution_count": null,
   "id": "85e0c7fc-ed80-451f-a1c6-248154a6f227",
   "metadata": {},
   "outputs": [],
   "source": []
  }
 ],
 "metadata": {
  "kernelspec": {
   "display_name": "Python 3 (ipykernel)",
   "language": "python",
   "name": "python3"
  },
  "language_info": {
   "codemirror_mode": {
    "name": "ipython",
    "version": 3
   },
   "file_extension": ".py",
   "mimetype": "text/x-python",
   "name": "python",
   "nbconvert_exporter": "python",
   "pygments_lexer": "ipython3",
   "version": "3.10.12"
  }
 },
 "nbformat": 4,
 "nbformat_minor": 5
}
