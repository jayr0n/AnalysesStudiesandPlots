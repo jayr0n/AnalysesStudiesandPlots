{
 "cells": [
  {
   "cell_type": "markdown",
   "id": "032a6fe9-79a7-498b-a22e-53c66ba99180",
   "metadata": {},
   "source": [
    "# Data Aggregation"
   ]
  },
  {
   "cell_type": "code",
   "execution_count": 1,
   "id": "f3b4c078-5ff2-49d0-aee0-9a5c90310b20",
   "metadata": {},
   "outputs": [],
   "source": [
    "import pandas as pd\n",
    "import numpy as np"
   ]
  },
  {
   "cell_type": "code",
   "execution_count": 2,
   "id": "1fb0590d-faeb-4ea6-b682-786f97c3c77b",
   "metadata": {},
   "outputs": [],
   "source": [
    "df = pd.DataFrame({'k1': ['a','b','a','a','b'], \n",
    "                   'k2': 'one two one two one'.split(),\n",
    "                   'data1': np.random.randn(5),\n",
    "                   'data2': np.random.randn(5)})"
   ]
  },
  {
   "cell_type": "code",
   "execution_count": 3,
   "id": "f3fa055e-6e05-41fc-b444-83847a845893",
   "metadata": {},
   "outputs": [
    {
     "data": {
      "text/html": [
       "<div>\n",
       "<style scoped>\n",
       "    .dataframe tbody tr th:only-of-type {\n",
       "        vertical-align: middle;\n",
       "    }\n",
       "\n",
       "    .dataframe tbody tr th {\n",
       "        vertical-align: top;\n",
       "    }\n",
       "\n",
       "    .dataframe thead th {\n",
       "        text-align: right;\n",
       "    }\n",
       "</style>\n",
       "<table border=\"1\" class=\"dataframe\">\n",
       "  <thead>\n",
       "    <tr style=\"text-align: right;\">\n",
       "      <th></th>\n",
       "      <th>k1</th>\n",
       "      <th>k2</th>\n",
       "      <th>data1</th>\n",
       "      <th>data2</th>\n",
       "    </tr>\n",
       "  </thead>\n",
       "  <tbody>\n",
       "    <tr>\n",
       "      <th>0</th>\n",
       "      <td>a</td>\n",
       "      <td>one</td>\n",
       "      <td>1.440058</td>\n",
       "      <td>-0.179283</td>\n",
       "    </tr>\n",
       "    <tr>\n",
       "      <th>1</th>\n",
       "      <td>b</td>\n",
       "      <td>two</td>\n",
       "      <td>-0.632240</td>\n",
       "      <td>-0.189224</td>\n",
       "    </tr>\n",
       "    <tr>\n",
       "      <th>2</th>\n",
       "      <td>a</td>\n",
       "      <td>one</td>\n",
       "      <td>-0.218526</td>\n",
       "      <td>-0.843859</td>\n",
       "    </tr>\n",
       "    <tr>\n",
       "      <th>3</th>\n",
       "      <td>a</td>\n",
       "      <td>two</td>\n",
       "      <td>-0.353628</td>\n",
       "      <td>0.811173</td>\n",
       "    </tr>\n",
       "    <tr>\n",
       "      <th>4</th>\n",
       "      <td>b</td>\n",
       "      <td>one</td>\n",
       "      <td>1.678073</td>\n",
       "      <td>-1.460794</td>\n",
       "    </tr>\n",
       "  </tbody>\n",
       "</table>\n",
       "</div>"
      ],
      "text/plain": [
       "  k1   k2     data1     data2\n",
       "0  a  one  1.440058 -0.179283\n",
       "1  b  two -0.632240 -0.189224\n",
       "2  a  one -0.218526 -0.843859\n",
       "3  a  two -0.353628  0.811173\n",
       "4  b  one  1.678073 -1.460794"
      ]
     },
     "execution_count": 3,
     "metadata": {},
     "output_type": "execute_result"
    }
   ],
   "source": [
    "df"
   ]
  },
  {
   "cell_type": "code",
   "execution_count": 4,
   "id": "f6c7ddc6-8f4a-4c28-9b11-78163e319d5f",
   "metadata": {},
   "outputs": [],
   "source": [
    "grouped = df.groupby('k1')"
   ]
  },
  {
   "cell_type": "code",
   "execution_count": 5,
   "id": "025ec126-00a0-40c6-a47a-2d5d3bd30c2f",
   "metadata": {},
   "outputs": [
    {
     "data": {
      "text/plain": [
       "k1\n",
       "a    1.108341\n",
       "b    1.447042\n",
       "Name: data1, dtype: float64"
      ]
     },
     "execution_count": 5,
     "metadata": {},
     "output_type": "execute_result"
    }
   ],
   "source": [
    "grouped['data1'].quantile(0.9)"
   ]
  },
  {
   "cell_type": "code",
   "execution_count": 6,
   "id": "83d07e5e-6c00-4579-9f84-361a35f4cbcc",
   "metadata": {},
   "outputs": [],
   "source": [
    "def peak_to_peak(arr):\n",
    "    return arr.max() - arr.min()"
   ]
  },
  {
   "cell_type": "code",
   "execution_count": 7,
   "id": "e4cf6b3f-9568-4e94-aba4-8ccd89ed79bf",
   "metadata": {},
   "outputs": [
    {
     "name": "stderr",
     "output_type": "stream",
     "text": [
      "C:\\Users\\Andra\\AppData\\Local\\Temp\\ipykernel_18384\\4193407341.py:1: FutureWarning: ['k2'] did not aggregate successfully. If any error is raised this will raise in a future version of pandas. Drop these columns/ops to avoid this warning.\n",
      "  grouped.agg(peak_to_peak)\n"
     ]
    },
    {
     "data": {
      "text/html": [
       "<div>\n",
       "<style scoped>\n",
       "    .dataframe tbody tr th:only-of-type {\n",
       "        vertical-align: middle;\n",
       "    }\n",
       "\n",
       "    .dataframe tbody tr th {\n",
       "        vertical-align: top;\n",
       "    }\n",
       "\n",
       "    .dataframe thead th {\n",
       "        text-align: right;\n",
       "    }\n",
       "</style>\n",
       "<table border=\"1\" class=\"dataframe\">\n",
       "  <thead>\n",
       "    <tr style=\"text-align: right;\">\n",
       "      <th></th>\n",
       "      <th>data1</th>\n",
       "      <th>data2</th>\n",
       "    </tr>\n",
       "    <tr>\n",
       "      <th>k1</th>\n",
       "      <th></th>\n",
       "      <th></th>\n",
       "    </tr>\n",
       "  </thead>\n",
       "  <tbody>\n",
       "    <tr>\n",
       "      <th>a</th>\n",
       "      <td>1.793685</td>\n",
       "      <td>1.655032</td>\n",
       "    </tr>\n",
       "    <tr>\n",
       "      <th>b</th>\n",
       "      <td>2.310313</td>\n",
       "      <td>1.271570</td>\n",
       "    </tr>\n",
       "  </tbody>\n",
       "</table>\n",
       "</div>"
      ],
      "text/plain": [
       "       data1     data2\n",
       "k1                    \n",
       "a   1.793685  1.655032\n",
       "b   2.310313  1.271570"
      ]
     },
     "execution_count": 7,
     "metadata": {},
     "output_type": "execute_result"
    }
   ],
   "source": [
    "grouped.agg(peak_to_peak)"
   ]
  },
  {
   "cell_type": "code",
   "execution_count": 9,
   "id": "3ead9621-3c1e-4bb3-b277-0580d28edca9",
   "metadata": {},
   "outputs": [
    {
     "data": {
      "text/html": [
       "<div>\n",
       "<style scoped>\n",
       "    .dataframe tbody tr th:only-of-type {\n",
       "        vertical-align: middle;\n",
       "    }\n",
       "\n",
       "    .dataframe tbody tr th {\n",
       "        vertical-align: top;\n",
       "    }\n",
       "\n",
       "    .dataframe thead tr th {\n",
       "        text-align: left;\n",
       "    }\n",
       "\n",
       "    .dataframe thead tr:last-of-type th {\n",
       "        text-align: right;\n",
       "    }\n",
       "</style>\n",
       "<table border=\"1\" class=\"dataframe\">\n",
       "  <thead>\n",
       "    <tr>\n",
       "      <th></th>\n",
       "      <th colspan=\"8\" halign=\"left\">data1</th>\n",
       "      <th colspan=\"8\" halign=\"left\">data2</th>\n",
       "    </tr>\n",
       "    <tr>\n",
       "      <th></th>\n",
       "      <th>count</th>\n",
       "      <th>mean</th>\n",
       "      <th>std</th>\n",
       "      <th>min</th>\n",
       "      <th>25%</th>\n",
       "      <th>50%</th>\n",
       "      <th>75%</th>\n",
       "      <th>max</th>\n",
       "      <th>count</th>\n",
       "      <th>mean</th>\n",
       "      <th>std</th>\n",
       "      <th>min</th>\n",
       "      <th>25%</th>\n",
       "      <th>50%</th>\n",
       "      <th>75%</th>\n",
       "      <th>max</th>\n",
       "    </tr>\n",
       "    <tr>\n",
       "      <th>k1</th>\n",
       "      <th></th>\n",
       "      <th></th>\n",
       "      <th></th>\n",
       "      <th></th>\n",
       "      <th></th>\n",
       "      <th></th>\n",
       "      <th></th>\n",
       "      <th></th>\n",
       "      <th></th>\n",
       "      <th></th>\n",
       "      <th></th>\n",
       "      <th></th>\n",
       "      <th></th>\n",
       "      <th></th>\n",
       "      <th></th>\n",
       "      <th></th>\n",
       "    </tr>\n",
       "  </thead>\n",
       "  <tbody>\n",
       "    <tr>\n",
       "      <th>a</th>\n",
       "      <td>3.0</td>\n",
       "      <td>0.289302</td>\n",
       "      <td>0.998871</td>\n",
       "      <td>-0.353628</td>\n",
       "      <td>-0.286077</td>\n",
       "      <td>-0.218526</td>\n",
       "      <td>0.610766</td>\n",
       "      <td>1.440058</td>\n",
       "      <td>3.0</td>\n",
       "      <td>-0.070656</td>\n",
       "      <td>0.832846</td>\n",
       "      <td>-0.843859</td>\n",
       "      <td>-0.511571</td>\n",
       "      <td>-0.179283</td>\n",
       "      <td>0.315945</td>\n",
       "      <td>0.811173</td>\n",
       "    </tr>\n",
       "    <tr>\n",
       "      <th>b</th>\n",
       "      <td>2.0</td>\n",
       "      <td>0.522917</td>\n",
       "      <td>1.633638</td>\n",
       "      <td>-0.632240</td>\n",
       "      <td>-0.054661</td>\n",
       "      <td>0.522917</td>\n",
       "      <td>1.100495</td>\n",
       "      <td>1.678073</td>\n",
       "      <td>2.0</td>\n",
       "      <td>-0.825009</td>\n",
       "      <td>0.899136</td>\n",
       "      <td>-1.460794</td>\n",
       "      <td>-1.142902</td>\n",
       "      <td>-0.825009</td>\n",
       "      <td>-0.507116</td>\n",
       "      <td>-0.189224</td>\n",
       "    </tr>\n",
       "  </tbody>\n",
       "</table>\n",
       "</div>"
      ],
      "text/plain": [
       "   data1                                                              \\\n",
       "   count      mean       std       min       25%       50%       75%   \n",
       "k1                                                                     \n",
       "a    3.0  0.289302  0.998871 -0.353628 -0.286077 -0.218526  0.610766   \n",
       "b    2.0  0.522917  1.633638 -0.632240 -0.054661  0.522917  1.100495   \n",
       "\n",
       "             data2                                                    \\\n",
       "         max count      mean       std       min       25%       50%   \n",
       "k1                                                                     \n",
       "a   1.440058   3.0 -0.070656  0.832846 -0.843859 -0.511571 -0.179283   \n",
       "b   1.678073   2.0 -0.825009  0.899136 -1.460794 -1.142902 -0.825009   \n",
       "\n",
       "                        \n",
       "         75%       max  \n",
       "k1                      \n",
       "a   0.315945  0.811173  \n",
       "b  -0.507116 -0.189224  "
      ]
     },
     "execution_count": 9,
     "metadata": {},
     "output_type": "execute_result"
    }
   ],
   "source": [
    "grouped.describe()"
   ]
  },
  {
   "cell_type": "code",
   "execution_count": null,
   "id": "08026010-0fcb-4674-bb59-916d23ca7d68",
   "metadata": {},
   "outputs": [],
   "source": []
  }
 ],
 "metadata": {
  "kernelspec": {
   "display_name": "Python 3 (ipykernel)",
   "language": "python",
   "name": "python3"
  },
  "language_info": {
   "codemirror_mode": {
    "name": "ipython",
    "version": 3
   },
   "file_extension": ".py",
   "mimetype": "text/x-python",
   "name": "python",
   "nbconvert_exporter": "python",
   "pygments_lexer": "ipython3",
   "version": "3.10.8"
  }
 },
 "nbformat": 4,
 "nbformat_minor": 5
}
