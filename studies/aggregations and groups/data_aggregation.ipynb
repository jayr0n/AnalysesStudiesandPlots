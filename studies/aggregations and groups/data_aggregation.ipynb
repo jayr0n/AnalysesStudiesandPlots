{
 "cells": [
  {
   "cell_type": "markdown",
   "id": "032a6fe9-79a7-498b-a22e-53c66ba99180",
   "metadata": {},
   "source": [
    "# Data Aggregation"
   ]
  },
  {
   "cell_type": "code",
   "execution_count": null,
   "id": "f3b4c078-5ff2-49d0-aee0-9a5c90310b20",
   "metadata": {},
   "outputs": [],
   "source": [
    "import pandas as pd\n",
    "import numpy as np"
   ]
  },
  {
   "cell_type": "code",
   "execution_count": null,
   "id": "1fb0590d-faeb-4ea6-b682-786f97c3c77b",
   "metadata": {},
   "outputs": [],
   "source": [
    "df = pd.DataFrame({'k1': ['a','b','a','a','b'], \n",
    "                   'k2': 'one two one two one'.split(),\n",
    "                   'data1': np.random.randn(5),\n",
    "                   'data2': np.random.randn(5)})"
   ]
  }
 ],
 "metadata": {
  "kernelspec": {
   "display_name": "Python 3 (ipykernel)",
   "language": "python",
   "name": "python3"
  },
  "language_info": {
   "codemirror_mode": {
    "name": "ipython",
    "version": 3
   },
   "file_extension": ".py",
   "mimetype": "text/x-python",
   "name": "python",
   "nbconvert_exporter": "python",
   "pygments_lexer": "ipython3",
   "version": "3.10.8"
  }
 },
 "nbformat": 4,
 "nbformat_minor": 5
}
