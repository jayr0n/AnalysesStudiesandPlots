{
 "cells": [
  {
   "cell_type": "code",
   "execution_count": 1,
   "id": "69b207a5-a861-4c84-a1c8-f6cf64f22601",
   "metadata": {},
   "outputs": [],
   "source": [
    "import pandas as pd\n",
    "import numpy as np"
   ]
  },
  {
   "cell_type": "code",
   "execution_count": 2,
   "id": "e4696103-dff9-457a-aaf0-f8d20721aa7d",
   "metadata": {},
   "outputs": [],
   "source": [
    "frame = pd.DataFrame({'data1': np.random.randn(1000),\n",
    "                     'data2': np.random.randn(1000)})"
   ]
  },
  {
   "cell_type": "code",
   "execution_count": 4,
   "id": "0d4a0470-78e4-4827-b26a-894a713c37ce",
   "metadata": {},
   "outputs": [],
   "source": [
    "quartiles = pd.cut(frame.data1, 4)"
   ]
  },
  {
   "cell_type": "code",
   "execution_count": 6,
   "id": "c1f4e08b-c502-41bf-bc27-079dbbb99fac",
   "metadata": {},
   "outputs": [
    {
     "data": {
      "text/plain": [
       "0     (-0.248, 1.298]\n",
       "1     (-0.248, 1.298]\n",
       "2    (-1.793, -0.248]\n",
       "3    (-1.793, -0.248]\n",
       "4     (-0.248, 1.298]\n",
       "5    (-1.793, -0.248]\n",
       "6    (-1.793, -0.248]\n",
       "7     (-0.248, 1.298]\n",
       "8    (-1.793, -0.248]\n",
       "9     (-0.248, 1.298]\n",
       "Name: data1, dtype: category\n",
       "Categories (4, interval[float64, right]): [(-3.345, -1.793] < (-1.793, -0.248] < (-0.248, 1.298] < (1.298, 2.843]]"
      ]
     },
     "execution_count": 6,
     "metadata": {},
     "output_type": "execute_result"
    }
   ],
   "source": [
    "quartiles[:10]"
   ]
  },
  {
   "cell_type": "code",
   "execution_count": 7,
   "id": "e485e6a7-0e60-4804-82ee-35bfabdc9575",
   "metadata": {},
   "outputs": [],
   "source": [
    "def get_stats(group):\n",
    "    return {'min' : group.min(), 'max' : group.max(), \n",
    "           'count' : group.count(), 'mean' : group.mean()}"
   ]
  },
  {
   "cell_type": "code",
   "execution_count": 8,
   "id": "0283032e-62c7-4488-9358-73b4d2c58c88",
   "metadata": {},
   "outputs": [],
   "source": [
    "grouped = frame.data2.groupby(quartiles)"
   ]
  },
  {
   "cell_type": "code",
   "execution_count": 9,
   "id": "24b5f9dd-6d2b-48aa-b17e-eb01f36f9224",
   "metadata": {},
   "outputs": [
    {
     "data": {
      "text/html": [
       "<div>\n",
       "<style scoped>\n",
       "    .dataframe tbody tr th:only-of-type {\n",
       "        vertical-align: middle;\n",
       "    }\n",
       "\n",
       "    .dataframe tbody tr th {\n",
       "        vertical-align: top;\n",
       "    }\n",
       "\n",
       "    .dataframe thead th {\n",
       "        text-align: right;\n",
       "    }\n",
       "</style>\n",
       "<table border=\"1\" class=\"dataframe\">\n",
       "  <thead>\n",
       "    <tr style=\"text-align: right;\">\n",
       "      <th></th>\n",
       "      <th>min</th>\n",
       "      <th>max</th>\n",
       "      <th>count</th>\n",
       "      <th>mean</th>\n",
       "    </tr>\n",
       "    <tr>\n",
       "      <th>data1</th>\n",
       "      <th></th>\n",
       "      <th></th>\n",
       "      <th></th>\n",
       "      <th></th>\n",
       "    </tr>\n",
       "  </thead>\n",
       "  <tbody>\n",
       "    <tr>\n",
       "      <th>(-3.345, -1.793]</th>\n",
       "      <td>-1.675624</td>\n",
       "      <td>1.519880</td>\n",
       "      <td>41.0</td>\n",
       "      <td>-0.260874</td>\n",
       "    </tr>\n",
       "    <tr>\n",
       "      <th>(-1.793, -0.248]</th>\n",
       "      <td>-2.422613</td>\n",
       "      <td>2.475347</td>\n",
       "      <td>378.0</td>\n",
       "      <td>-0.076514</td>\n",
       "    </tr>\n",
       "    <tr>\n",
       "      <th>(-0.248, 1.298]</th>\n",
       "      <td>-3.022449</td>\n",
       "      <td>3.316908</td>\n",
       "      <td>480.0</td>\n",
       "      <td>0.017516</td>\n",
       "    </tr>\n",
       "    <tr>\n",
       "      <th>(1.298, 2.843]</th>\n",
       "      <td>-2.415876</td>\n",
       "      <td>2.162782</td>\n",
       "      <td>101.0</td>\n",
       "      <td>-0.016489</td>\n",
       "    </tr>\n",
       "  </tbody>\n",
       "</table>\n",
       "</div>"
      ],
      "text/plain": [
       "                       min       max  count      mean\n",
       "data1                                                \n",
       "(-3.345, -1.793] -1.675624  1.519880   41.0 -0.260874\n",
       "(-1.793, -0.248] -2.422613  2.475347  378.0 -0.076514\n",
       "(-0.248, 1.298]  -3.022449  3.316908  480.0  0.017516\n",
       "(1.298, 2.843]   -2.415876  2.162782  101.0 -0.016489"
      ]
     },
     "execution_count": 9,
     "metadata": {},
     "output_type": "execute_result"
    }
   ],
   "source": [
    "grouped.apply(get_stats).unstack()"
   ]
  },
  {
   "cell_type": "code",
   "execution_count": 10,
   "id": "cfeb7ffe-5f3b-49d8-ae94-01a7ee687669",
   "metadata": {},
   "outputs": [
    {
     "data": {
      "text/plain": [
       "pandas.core.series.Series"
      ]
     },
     "execution_count": 10,
     "metadata": {},
     "output_type": "execute_result"
    }
   ],
   "source": [
    "type(quartiles)"
   ]
  },
  {
   "cell_type": "code",
   "execution_count": 11,
   "id": "64383cfa-987f-43de-9a9a-25992c954e8b",
   "metadata": {},
   "outputs": [],
   "source": [
    "grouping = pd.qcut(frame.data1, 10, labels=False)"
   ]
  },
  {
   "cell_type": "code",
   "execution_count": 12,
   "id": "2a520afe-4615-4107-8c35-fa89888c0b70",
   "metadata": {},
   "outputs": [],
   "source": [
    "grouped = frame.data2.groupby(grouping)"
   ]
  },
  {
   "cell_type": "code",
   "execution_count": 14,
   "id": "8a98a39e-1a57-4a8c-b5af-9a4f08988e93",
   "metadata": {},
   "outputs": [
    {
     "data": {
      "text/html": [
       "<div>\n",
       "<style scoped>\n",
       "    .dataframe tbody tr th:only-of-type {\n",
       "        vertical-align: middle;\n",
       "    }\n",
       "\n",
       "    .dataframe tbody tr th {\n",
       "        vertical-align: top;\n",
       "    }\n",
       "\n",
       "    .dataframe thead th {\n",
       "        text-align: right;\n",
       "    }\n",
       "</style>\n",
       "<table border=\"1\" class=\"dataframe\">\n",
       "  <thead>\n",
       "    <tr style=\"text-align: right;\">\n",
       "      <th></th>\n",
       "      <th>min</th>\n",
       "      <th>max</th>\n",
       "      <th>count</th>\n",
       "      <th>mean</th>\n",
       "    </tr>\n",
       "    <tr>\n",
       "      <th>data1</th>\n",
       "      <th></th>\n",
       "      <th></th>\n",
       "      <th></th>\n",
       "      <th></th>\n",
       "    </tr>\n",
       "  </thead>\n",
       "  <tbody>\n",
       "    <tr>\n",
       "      <th>0</th>\n",
       "      <td>-2.391698</td>\n",
       "      <td>2.043936</td>\n",
       "      <td>100.0</td>\n",
       "      <td>-0.169512</td>\n",
       "    </tr>\n",
       "    <tr>\n",
       "      <th>1</th>\n",
       "      <td>-2.228127</td>\n",
       "      <td>2.345899</td>\n",
       "      <td>100.0</td>\n",
       "      <td>-0.025319</td>\n",
       "    </tr>\n",
       "    <tr>\n",
       "      <th>2</th>\n",
       "      <td>-2.400787</td>\n",
       "      <td>1.879984</td>\n",
       "      <td>100.0</td>\n",
       "      <td>-0.132385</td>\n",
       "    </tr>\n",
       "    <tr>\n",
       "      <th>3</th>\n",
       "      <td>-2.422613</td>\n",
       "      <td>2.475347</td>\n",
       "      <td>100.0</td>\n",
       "      <td>-0.067563</td>\n",
       "    </tr>\n",
       "    <tr>\n",
       "      <th>4</th>\n",
       "      <td>-1.995727</td>\n",
       "      <td>2.317241</td>\n",
       "      <td>100.0</td>\n",
       "      <td>0.126513</td>\n",
       "    </tr>\n",
       "    <tr>\n",
       "      <th>5</th>\n",
       "      <td>-3.022449</td>\n",
       "      <td>2.369013</td>\n",
       "      <td>100.0</td>\n",
       "      <td>0.033003</td>\n",
       "    </tr>\n",
       "    <tr>\n",
       "      <th>6</th>\n",
       "      <td>-1.762065</td>\n",
       "      <td>3.316908</td>\n",
       "      <td>100.0</td>\n",
       "      <td>0.131810</td>\n",
       "    </tr>\n",
       "    <tr>\n",
       "      <th>7</th>\n",
       "      <td>-2.471330</td>\n",
       "      <td>1.797696</td>\n",
       "      <td>100.0</td>\n",
       "      <td>-0.191554</td>\n",
       "    </tr>\n",
       "    <tr>\n",
       "      <th>8</th>\n",
       "      <td>-2.121704</td>\n",
       "      <td>2.458516</td>\n",
       "      <td>100.0</td>\n",
       "      <td>-0.022611</td>\n",
       "    </tr>\n",
       "    <tr>\n",
       "      <th>9</th>\n",
       "      <td>-2.415876</td>\n",
       "      <td>2.162782</td>\n",
       "      <td>100.0</td>\n",
       "      <td>-0.011143</td>\n",
       "    </tr>\n",
       "  </tbody>\n",
       "</table>\n",
       "</div>"
      ],
      "text/plain": [
       "            min       max  count      mean\n",
       "data1                                     \n",
       "0     -2.391698  2.043936  100.0 -0.169512\n",
       "1     -2.228127  2.345899  100.0 -0.025319\n",
       "2     -2.400787  1.879984  100.0 -0.132385\n",
       "3     -2.422613  2.475347  100.0 -0.067563\n",
       "4     -1.995727  2.317241  100.0  0.126513\n",
       "5     -3.022449  2.369013  100.0  0.033003\n",
       "6     -1.762065  3.316908  100.0  0.131810\n",
       "7     -2.471330  1.797696  100.0 -0.191554\n",
       "8     -2.121704  2.458516  100.0 -0.022611\n",
       "9     -2.415876  2.162782  100.0 -0.011143"
      ]
     },
     "execution_count": 14,
     "metadata": {},
     "output_type": "execute_result"
    }
   ],
   "source": [
    "grouped.apply(get_stats).unstack()"
   ]
  },
  {
   "cell_type": "code",
   "execution_count": null,
   "id": "883a9690-333e-4b2a-8245-a2dbd06c69e3",
   "metadata": {},
   "outputs": [],
   "source": []
  }
 ],
 "metadata": {
  "kernelspec": {
   "display_name": "Python 3 (ipykernel)",
   "language": "python",
   "name": "python3"
  },
  "language_info": {
   "codemirror_mode": {
    "name": "ipython",
    "version": 3
   },
   "file_extension": ".py",
   "mimetype": "text/x-python",
   "name": "python",
   "nbconvert_exporter": "python",
   "pygments_lexer": "ipython3",
   "version": "3.10.8"
  }
 },
 "nbformat": 4,
 "nbformat_minor": 5
}
