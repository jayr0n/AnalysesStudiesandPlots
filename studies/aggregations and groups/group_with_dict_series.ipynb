{
 "cells": [
  {
   "cell_type": "code",
   "execution_count": 1,
   "id": "766e170e-8c12-4ae1-8d9b-53a18d95f6a7",
   "metadata": {},
   "outputs": [],
   "source": [
    "import pandas as pd\n",
    "import numpy as np"
   ]
  },
  {
   "cell_type": "code",
   "execution_count": 3,
   "id": "b1fc80fe-19d8-4a44-b8b2-7f2bbec27d5c",
   "metadata": {},
   "outputs": [],
   "source": [
    "people = pd.DataFrame(np.random.randn(5,5),\n",
    "                     columns= 'a b c d e'.split(),\n",
    "                     index=['Joao', 'Anna', 'Carlos', 'Wes', 'Travis'])"
   ]
  },
  {
   "cell_type": "code",
   "execution_count": 7,
   "id": "44eb3212-824c-41a6-9385-94862433b0dc",
   "metadata": {},
   "outputs": [],
   "source": [
    "people.iloc[2:3, [1,2]] = np.nan"
   ]
  },
  {
   "cell_type": "code",
   "execution_count": 8,
   "id": "d36e8a33-7535-458a-bfb2-a57a922385ce",
   "metadata": {},
   "outputs": [
    {
     "data": {
      "text/html": [
       "<div>\n",
       "<style scoped>\n",
       "    .dataframe tbody tr th:only-of-type {\n",
       "        vertical-align: middle;\n",
       "    }\n",
       "\n",
       "    .dataframe tbody tr th {\n",
       "        vertical-align: top;\n",
       "    }\n",
       "\n",
       "    .dataframe thead th {\n",
       "        text-align: right;\n",
       "    }\n",
       "</style>\n",
       "<table border=\"1\" class=\"dataframe\">\n",
       "  <thead>\n",
       "    <tr style=\"text-align: right;\">\n",
       "      <th></th>\n",
       "      <th>a</th>\n",
       "      <th>b</th>\n",
       "      <th>c</th>\n",
       "      <th>d</th>\n",
       "      <th>e</th>\n",
       "    </tr>\n",
       "  </thead>\n",
       "  <tbody>\n",
       "    <tr>\n",
       "      <th>Joao</th>\n",
       "      <td>1.043765</td>\n",
       "      <td>-1.344015</td>\n",
       "      <td>-0.126802</td>\n",
       "      <td>0.407050</td>\n",
       "      <td>2.371361</td>\n",
       "    </tr>\n",
       "    <tr>\n",
       "      <th>Anna</th>\n",
       "      <td>-1.354884</td>\n",
       "      <td>1.033199</td>\n",
       "      <td>-0.625616</td>\n",
       "      <td>-1.121579</td>\n",
       "      <td>-0.213733</td>\n",
       "    </tr>\n",
       "    <tr>\n",
       "      <th>Carlos</th>\n",
       "      <td>-1.247604</td>\n",
       "      <td>NaN</td>\n",
       "      <td>NaN</td>\n",
       "      <td>-0.155788</td>\n",
       "      <td>-1.218552</td>\n",
       "    </tr>\n",
       "    <tr>\n",
       "      <th>Wes</th>\n",
       "      <td>1.359112</td>\n",
       "      <td>-1.066628</td>\n",
       "      <td>-0.256348</td>\n",
       "      <td>-0.692039</td>\n",
       "      <td>-2.186726</td>\n",
       "    </tr>\n",
       "    <tr>\n",
       "      <th>Travis</th>\n",
       "      <td>1.746813</td>\n",
       "      <td>-0.645041</td>\n",
       "      <td>-0.887494</td>\n",
       "      <td>-0.771771</td>\n",
       "      <td>-0.494016</td>\n",
       "    </tr>\n",
       "  </tbody>\n",
       "</table>\n",
       "</div>"
      ],
      "text/plain": [
       "               a         b         c         d         e\n",
       "Joao    1.043765 -1.344015 -0.126802  0.407050  2.371361\n",
       "Anna   -1.354884  1.033199 -0.625616 -1.121579 -0.213733\n",
       "Carlos -1.247604       NaN       NaN -0.155788 -1.218552\n",
       "Wes     1.359112 -1.066628 -0.256348 -0.692039 -2.186726\n",
       "Travis  1.746813 -0.645041 -0.887494 -0.771771 -0.494016"
      ]
     },
     "execution_count": 8,
     "metadata": {},
     "output_type": "execute_result"
    }
   ],
   "source": [
    "people"
   ]
  },
  {
   "cell_type": "code",
   "execution_count": 13,
   "id": "315a88a7-5411-4a90-9958-d286afebd224",
   "metadata": {},
   "outputs": [],
   "source": [
    "mapping = {'a':'red', 'b':'red', 'c':'blue', \n",
    "           'd':'blue', 'e':'red', 'f':'orange'}"
   ]
  },
  {
   "cell_type": "code",
   "execution_count": 14,
   "id": "abe98c23-9143-437c-bad9-9e82391725ab",
   "metadata": {},
   "outputs": [],
   "source": [
    "by_column = people.groupby(mapping, axis=1)"
   ]
  },
  {
   "cell_type": "code",
   "execution_count": 16,
   "id": "91aa5d6d-00a0-4bf7-a5e8-9361722f97a8",
   "metadata": {},
   "outputs": [
    {
     "data": {
      "text/html": [
       "<div>\n",
       "<style scoped>\n",
       "    .dataframe tbody tr th:only-of-type {\n",
       "        vertical-align: middle;\n",
       "    }\n",
       "\n",
       "    .dataframe tbody tr th {\n",
       "        vertical-align: top;\n",
       "    }\n",
       "\n",
       "    .dataframe thead th {\n",
       "        text-align: right;\n",
       "    }\n",
       "</style>\n",
       "<table border=\"1\" class=\"dataframe\">\n",
       "  <thead>\n",
       "    <tr style=\"text-align: right;\">\n",
       "      <th></th>\n",
       "      <th>blue</th>\n",
       "      <th>red</th>\n",
       "    </tr>\n",
       "  </thead>\n",
       "  <tbody>\n",
       "    <tr>\n",
       "      <th>Joao</th>\n",
       "      <td>0.280248</td>\n",
       "      <td>2.071111</td>\n",
       "    </tr>\n",
       "    <tr>\n",
       "      <th>Anna</th>\n",
       "      <td>-1.747195</td>\n",
       "      <td>-0.535418</td>\n",
       "    </tr>\n",
       "    <tr>\n",
       "      <th>Carlos</th>\n",
       "      <td>-0.155788</td>\n",
       "      <td>-2.466155</td>\n",
       "    </tr>\n",
       "    <tr>\n",
       "      <th>Wes</th>\n",
       "      <td>-0.948388</td>\n",
       "      <td>-1.894243</td>\n",
       "    </tr>\n",
       "    <tr>\n",
       "      <th>Travis</th>\n",
       "      <td>-1.659265</td>\n",
       "      <td>0.607757</td>\n",
       "    </tr>\n",
       "  </tbody>\n",
       "</table>\n",
       "</div>"
      ],
      "text/plain": [
       "            blue       red\n",
       "Joao    0.280248  2.071111\n",
       "Anna   -1.747195 -0.535418\n",
       "Carlos -0.155788 -2.466155\n",
       "Wes    -0.948388 -1.894243\n",
       "Travis -1.659265  0.607757"
      ]
     },
     "execution_count": 16,
     "metadata": {},
     "output_type": "execute_result"
    }
   ],
   "source": [
    "by_column.sum()"
   ]
  },
  {
   "cell_type": "code",
   "execution_count": 18,
   "id": "9deb57dd-bdac-4bac-bf46-26c91cf0206b",
   "metadata": {},
   "outputs": [
    {
     "data": {
      "text/plain": [
       "a       red\n",
       "b       red\n",
       "c      blue\n",
       "d      blue\n",
       "e       red\n",
       "f    orange\n",
       "dtype: object"
      ]
     },
     "execution_count": 18,
     "metadata": {},
     "output_type": "execute_result"
    }
   ],
   "source": [
    "map_series = pd.Series(mapping)\n",
    "\n",
    "map_series"
   ]
  },
  {
   "cell_type": "code",
   "execution_count": 19,
   "id": "b2e5f052-a05c-487d-908a-2fcbbca4ad1f",
   "metadata": {},
   "outputs": [
    {
     "data": {
      "text/html": [
       "<div>\n",
       "<style scoped>\n",
       "    .dataframe tbody tr th:only-of-type {\n",
       "        vertical-align: middle;\n",
       "    }\n",
       "\n",
       "    .dataframe tbody tr th {\n",
       "        vertical-align: top;\n",
       "    }\n",
       "\n",
       "    .dataframe thead th {\n",
       "        text-align: right;\n",
       "    }\n",
       "</style>\n",
       "<table border=\"1\" class=\"dataframe\">\n",
       "  <thead>\n",
       "    <tr style=\"text-align: right;\">\n",
       "      <th></th>\n",
       "      <th>blue</th>\n",
       "      <th>red</th>\n",
       "    </tr>\n",
       "  </thead>\n",
       "  <tbody>\n",
       "    <tr>\n",
       "      <th>Joao</th>\n",
       "      <td>2</td>\n",
       "      <td>3</td>\n",
       "    </tr>\n",
       "    <tr>\n",
       "      <th>Anna</th>\n",
       "      <td>2</td>\n",
       "      <td>3</td>\n",
       "    </tr>\n",
       "    <tr>\n",
       "      <th>Carlos</th>\n",
       "      <td>1</td>\n",
       "      <td>2</td>\n",
       "    </tr>\n",
       "    <tr>\n",
       "      <th>Wes</th>\n",
       "      <td>2</td>\n",
       "      <td>3</td>\n",
       "    </tr>\n",
       "    <tr>\n",
       "      <th>Travis</th>\n",
       "      <td>2</td>\n",
       "      <td>3</td>\n",
       "    </tr>\n",
       "  </tbody>\n",
       "</table>\n",
       "</div>"
      ],
      "text/plain": [
       "        blue  red\n",
       "Joao       2    3\n",
       "Anna       2    3\n",
       "Carlos     1    2\n",
       "Wes        2    3\n",
       "Travis     2    3"
      ]
     },
     "execution_count": 19,
     "metadata": {},
     "output_type": "execute_result"
    }
   ],
   "source": [
    "people.groupby(map_series, axis=1).count()"
   ]
  },
  {
   "cell_type": "code",
   "execution_count": 20,
   "id": "52061b11-b5b8-4875-83b8-706e578b7f46",
   "metadata": {},
   "outputs": [
    {
     "data": {
      "text/html": [
       "<div>\n",
       "<style scoped>\n",
       "    .dataframe tbody tr th:only-of-type {\n",
       "        vertical-align: middle;\n",
       "    }\n",
       "\n",
       "    .dataframe tbody tr th {\n",
       "        vertical-align: top;\n",
       "    }\n",
       "\n",
       "    .dataframe thead th {\n",
       "        text-align: right;\n",
       "    }\n",
       "</style>\n",
       "<table border=\"1\" class=\"dataframe\">\n",
       "  <thead>\n",
       "    <tr style=\"text-align: right;\">\n",
       "      <th></th>\n",
       "      <th>a</th>\n",
       "      <th>b</th>\n",
       "      <th>c</th>\n",
       "      <th>d</th>\n",
       "      <th>e</th>\n",
       "    </tr>\n",
       "  </thead>\n",
       "  <tbody>\n",
       "    <tr>\n",
       "      <th>Joao</th>\n",
       "      <td>1.043765</td>\n",
       "      <td>-1.344015</td>\n",
       "      <td>-0.126802</td>\n",
       "      <td>0.407050</td>\n",
       "      <td>2.371361</td>\n",
       "    </tr>\n",
       "    <tr>\n",
       "      <th>Anna</th>\n",
       "      <td>-1.354884</td>\n",
       "      <td>1.033199</td>\n",
       "      <td>-0.625616</td>\n",
       "      <td>-1.121579</td>\n",
       "      <td>-0.213733</td>\n",
       "    </tr>\n",
       "    <tr>\n",
       "      <th>Carlos</th>\n",
       "      <td>-1.247604</td>\n",
       "      <td>NaN</td>\n",
       "      <td>NaN</td>\n",
       "      <td>-0.155788</td>\n",
       "      <td>-1.218552</td>\n",
       "    </tr>\n",
       "    <tr>\n",
       "      <th>Wes</th>\n",
       "      <td>1.359112</td>\n",
       "      <td>-1.066628</td>\n",
       "      <td>-0.256348</td>\n",
       "      <td>-0.692039</td>\n",
       "      <td>-2.186726</td>\n",
       "    </tr>\n",
       "    <tr>\n",
       "      <th>Travis</th>\n",
       "      <td>1.746813</td>\n",
       "      <td>-0.645041</td>\n",
       "      <td>-0.887494</td>\n",
       "      <td>-0.771771</td>\n",
       "      <td>-0.494016</td>\n",
       "    </tr>\n",
       "  </tbody>\n",
       "</table>\n",
       "</div>"
      ],
      "text/plain": [
       "               a         b         c         d         e\n",
       "Joao    1.043765 -1.344015 -0.126802  0.407050  2.371361\n",
       "Anna   -1.354884  1.033199 -0.625616 -1.121579 -0.213733\n",
       "Carlos -1.247604       NaN       NaN -0.155788 -1.218552\n",
       "Wes     1.359112 -1.066628 -0.256348 -0.692039 -2.186726\n",
       "Travis  1.746813 -0.645041 -0.887494 -0.771771 -0.494016"
      ]
     },
     "execution_count": 20,
     "metadata": {},
     "output_type": "execute_result"
    }
   ],
   "source": [
    "people"
   ]
  },
  {
   "cell_type": "code",
   "execution_count": null,
   "id": "bcaa70e9-685c-43d6-b3c7-f70f4adc017a",
   "metadata": {},
   "outputs": [],
   "source": []
  }
 ],
 "metadata": {
  "kernelspec": {
   "display_name": "Python 3 (ipykernel)",
   "language": "python",
   "name": "python3"
  },
  "language_info": {
   "codemirror_mode": {
    "name": "ipython",
    "version": 3
   },
   "file_extension": ".py",
   "mimetype": "text/x-python",
   "name": "python",
   "nbconvert_exporter": "python",
   "pygments_lexer": "ipython3",
   "version": "3.10.8"
  }
 },
 "nbformat": 4,
 "nbformat_minor": 5
}
