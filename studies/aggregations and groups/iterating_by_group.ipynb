{
 "cells": [
  {
   "cell_type": "markdown",
   "id": "a58ae82c-f39d-4cbf-a2ab-7f9a63e78902",
   "metadata": {},
   "source": [
    "# Iterating by group"
   ]
  },
  {
   "cell_type": "code",
   "execution_count": 1,
   "id": "a0b5fcc2-431f-4d3b-a93f-67f54d46b3fa",
   "metadata": {},
   "outputs": [],
   "source": [
    "import pandas as pd\n",
    "import numpy as np"
   ]
  },
  {
   "cell_type": "code",
   "execution_count": 2,
   "id": "2c5b67be-3d28-4d16-8d34-a31073c6c90e",
   "metadata": {},
   "outputs": [],
   "source": [
    "df = pd.DataFrame({'k1': ['a','b','a','a','b'], \n",
    "                   'k2': 'one two one two one'.split(),\n",
    "                   'data1': np.random.randn(5),\n",
    "                   'data2': np.random.randn(5)})"
   ]
  },
  {
   "cell_type": "code",
   "execution_count": 6,
   "id": "83c7fdf6-4e17-4801-93d1-32fa5c10cee7",
   "metadata": {},
   "outputs": [
    {
     "name": "stdout",
     "output_type": "stream",
     "text": [
      "a\n",
      "  k1   k2     data1     data2\n",
      "0  a  one -0.584513  2.504797\n",
      "2  a  one  0.991813 -0.121459\n",
      "3  a  two  0.202230 -3.019967\n",
      "b\n",
      "  k1   k2     data1     data2\n",
      "1  b  two  0.156948  1.669868\n",
      "4  b  one  1.733898  0.064269\n"
     ]
    }
   ],
   "source": [
    "for name, group in df.groupby('k1'):\n",
    "    print(name)\n",
    "    print(group)"
   ]
  },
  {
   "cell_type": "code",
   "execution_count": 8,
   "id": "13bfebf8-2a82-4079-9d22-41555cbdeee1",
   "metadata": {},
   "outputs": [
    {
     "name": "stdout",
     "output_type": "stream",
     "text": [
      "('a', 'one')\n",
      "  k1   k2     data1     data2\n",
      "0  a  one -0.584513  2.504797\n",
      "2  a  one  0.991813 -0.121459\n",
      "('a', 'two')\n",
      "  k1   k2    data1     data2\n",
      "3  a  two  0.20223 -3.019967\n",
      "('b', 'one')\n",
      "  k1   k2     data1     data2\n",
      "4  b  one  1.733898  0.064269\n",
      "('b', 'two')\n",
      "  k1   k2     data1     data2\n",
      "1  b  two  0.156948  1.669868\n"
     ]
    }
   ],
   "source": [
    "for (k1, k2), group in df.groupby(['k1', 'k2']):\n",
    "    print((k1, k2))\n",
    "    print(group)"
   ]
  },
  {
   "cell_type": "code",
   "execution_count": 9,
   "id": "61174391-f2ea-41d8-8c44-3c3c0322162d",
   "metadata": {},
   "outputs": [],
   "source": [
    "pieces = dict(list(df.groupby('k1')))"
   ]
  },
  {
   "cell_type": "code",
   "execution_count": 19,
   "id": "52a042bb-bbe8-478f-9432-7a906b9a796f",
   "metadata": {},
   "outputs": [
    {
     "data": {
      "text/html": [
       "<div>\n",
       "<style scoped>\n",
       "    .dataframe tbody tr th:only-of-type {\n",
       "        vertical-align: middle;\n",
       "    }\n",
       "\n",
       "    .dataframe tbody tr th {\n",
       "        vertical-align: top;\n",
       "    }\n",
       "\n",
       "    .dataframe thead th {\n",
       "        text-align: right;\n",
       "    }\n",
       "</style>\n",
       "<table border=\"1\" class=\"dataframe\">\n",
       "  <thead>\n",
       "    <tr style=\"text-align: right;\">\n",
       "      <th></th>\n",
       "      <th>k1</th>\n",
       "      <th>k2</th>\n",
       "      <th>data1</th>\n",
       "      <th>data2</th>\n",
       "    </tr>\n",
       "  </thead>\n",
       "  <tbody>\n",
       "    <tr>\n",
       "      <th>1</th>\n",
       "      <td>b</td>\n",
       "      <td>two</td>\n",
       "      <td>0.156948</td>\n",
       "      <td>1.669868</td>\n",
       "    </tr>\n",
       "    <tr>\n",
       "      <th>4</th>\n",
       "      <td>b</td>\n",
       "      <td>one</td>\n",
       "      <td>1.733898</td>\n",
       "      <td>0.064269</td>\n",
       "    </tr>\n",
       "  </tbody>\n",
       "</table>\n",
       "</div>"
      ],
      "text/plain": [
       "  k1   k2     data1     data2\n",
       "1  b  two  0.156948  1.669868\n",
       "4  b  one  1.733898  0.064269"
      ]
     },
     "execution_count": 19,
     "metadata": {},
     "output_type": "execute_result"
    }
   ],
   "source": [
    "pieces['b']"
   ]
  },
  {
   "cell_type": "code",
   "execution_count": 20,
   "id": "4fecdf22-d5fa-4c39-be37-15f3a462e1ab",
   "metadata": {},
   "outputs": [
    {
     "data": {
      "text/plain": [
       "k1        object\n",
       "k2        object\n",
       "data1    float64\n",
       "data2    float64\n",
       "dtype: object"
      ]
     },
     "execution_count": 20,
     "metadata": {},
     "output_type": "execute_result"
    }
   ],
   "source": [
    "df.dtypes"
   ]
  },
  {
   "cell_type": "code",
   "execution_count": 21,
   "id": "e6083f61-a34c-4f4b-80c0-d935d696f292",
   "metadata": {},
   "outputs": [],
   "source": [
    "grouped = df.groupby(df.dtypes, axis=1)"
   ]
  },
  {
   "cell_type": "code",
   "execution_count": 22,
   "id": "8f896979-8b9b-4ea2-90ee-e273fcb0fb27",
   "metadata": {},
   "outputs": [
    {
     "name": "stdout",
     "output_type": "stream",
     "text": [
      "float64\n",
      "      data1     data2\n",
      "0 -0.584513  2.504797\n",
      "1  0.156948  1.669868\n",
      "2  0.991813 -0.121459\n",
      "3  0.202230 -3.019967\n",
      "4  1.733898  0.064269\n",
      "object\n",
      "  k1   k2\n",
      "0  a  one\n",
      "1  b  two\n",
      "2  a  one\n",
      "3  a  two\n",
      "4  b  one\n"
     ]
    }
   ],
   "source": [
    "for dtype, group in grouped:\n",
    "    print(dtype)\n",
    "    print(group)"
   ]
  },
  {
   "cell_type": "code",
   "execution_count": null,
   "id": "baf9e4cd-7035-4a80-8e8f-84cbd602931e",
   "metadata": {},
   "outputs": [],
   "source": []
  }
 ],
 "metadata": {
  "kernelspec": {
   "display_name": "Python 3 (ipykernel)",
   "language": "python",
   "name": "python3"
  },
  "language_info": {
   "codemirror_mode": {
    "name": "ipython",
    "version": 3
   },
   "file_extension": ".py",
   "mimetype": "text/x-python",
   "name": "python",
   "nbconvert_exporter": "python",
   "pygments_lexer": "ipython3",
   "version": "3.10.8"
  }
 },
 "nbformat": 4,
 "nbformat_minor": 5
}
