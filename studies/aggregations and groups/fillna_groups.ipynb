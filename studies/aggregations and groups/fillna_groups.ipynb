{
 "cells": [
  {
   "cell_type": "markdown",
   "id": "e727e051-8c72-42fc-b073-1f51047317fa",
   "metadata": {},
   "source": [
    "# Filling Na values with specific group values"
   ]
  },
  {
   "cell_type": "code",
   "execution_count": 1,
   "id": "34e1af0f-5edf-44f3-b660-e6f985b01ff6",
   "metadata": {},
   "outputs": [],
   "source": [
    "import pandas as pd\n",
    "import numpy as np"
   ]
  },
  {
   "cell_type": "code",
   "execution_count": 2,
   "id": "c404c974-16b2-4ff0-9a1f-09a4b198134b",
   "metadata": {},
   "outputs": [
    {
     "data": {
      "text/plain": [
       "0         NaN\n",
       "1   -0.441150\n",
       "2         NaN\n",
       "3    0.306069\n",
       "4         NaN\n",
       "5    0.254148\n",
       "dtype: float64"
      ]
     },
     "execution_count": 2,
     "metadata": {},
     "output_type": "execute_result"
    }
   ],
   "source": [
    "s = pd.Series(np.random.randn(6))\n",
    "\n",
    "s[::2] = np.nan\n",
    "s\n"
   ]
  },
  {
   "cell_type": "code",
   "execution_count": null,
   "id": "8bae3721-d465-4020-a5f8-485308626cb3",
   "metadata": {},
   "outputs": [],
   "source": [
    "s.fillna(s.mean())"
   ]
  },
  {
   "cell_type": "code",
   "execution_count": 3,
   "id": "f5aa3167-ba82-4978-9bb3-67664ed08fff",
   "metadata": {},
   "outputs": [],
   "source": [
    "states = ['Ohio', 'NY', 'Vermont', 'Florida', 'Oregon', 'Nevada', 'California', 'Idaho']"
   ]
  },
  {
   "cell_type": "code",
   "execution_count": 4,
   "id": "28e61d71-013c-476c-87e8-2303ffc19ae2",
   "metadata": {},
   "outputs": [
    {
     "data": {
      "text/plain": [
       "['East', 'East', 'East', 'East', 'West', 'West', 'West', 'West']"
      ]
     },
     "execution_count": 4,
     "metadata": {},
     "output_type": "execute_result"
    }
   ],
   "source": [
    "group_key = ['East'] * 4 + ['West'] * 4\n",
    "group_key"
   ]
  },
  {
   "cell_type": "code",
   "execution_count": null,
   "id": "4f206b74-e43a-402d-9e5a-031d93fa27ff",
   "metadata": {},
   "outputs": [],
   "source": [
    "data = pd.Series(np.random.randn(8), index=states)\n",
    "data"
   ]
  },
  {
   "cell_type": "code",
   "execution_count": null,
   "id": "cfa97ece-00ac-46e1-a867-b2a2147ff896",
   "metadata": {},
   "outputs": [],
   "source": [
    "data[['Vermont', 'Nevada', 'Idaho']] = np.nan\n",
    "data"
   ]
  },
  {
   "cell_type": "markdown",
   "id": "cc9d1767-4de1-4e92-9c45-e8e4bd6fb25b",
   "metadata": {},
   "source": [
    "<p> Mean from the groups </p>"
   ]
  },
  {
   "cell_type": "code",
   "execution_count": null,
   "id": "e4a957f3-b97c-44af-a2cc-dbc10f907571",
   "metadata": {},
   "outputs": [],
   "source": [
    "data.groupby(group_key).mean()"
   ]
  },
  {
   "cell_type": "code",
   "execution_count": null,
   "id": "c6b01c7c-4a06-4541-931a-42fcb7fe90b0",
   "metadata": {},
   "outputs": [],
   "source": [
    "fill_mean = lambda g: g.fillna(g.mean())"
   ]
  },
  {
   "cell_type": "markdown",
   "id": "2603e63d-8334-4fb4-91c2-3f538ab5d279",
   "metadata": {},
   "source": [
    "<p> Filling NA with the mean by group </p>"
   ]
  },
  {
   "cell_type": "code",
   "execution_count": null,
   "id": "ba67a7db-6b0b-4f95-acf1-43eb946144f9",
   "metadata": {},
   "outputs": [],
   "source": [
    "data.groupby(group_key, group_keys=False).apply(fill_mean)"
   ]
  },
  {
   "cell_type": "markdown",
   "id": "33f73b26-6a4b-493c-899a-2f2e29225b7e",
   "metadata": {},
   "source": [
    "<p> Felling with a specific value </p>"
   ]
  },
  {
   "cell_type": "code",
   "execution_count": null,
   "id": "ef8ea3b1-ac0f-4c54-ad62-bcca8fd5f47b",
   "metadata": {},
   "outputs": [],
   "source": [
    "fill_values = {'East' : 0.5, 'West' : -1}\n",
    "\n",
    "fill_func = lambda g: g.fillna(fill_values[g.name])\n",
    "\n",
    "data.groupby(group_key, group_keys=False).apply(fill_func)"
   ]
  }
 ],
 "metadata": {
  "kernelspec": {
   "display_name": "Python 3 (ipykernel)",
   "language": "python",
   "name": "python3"
  },
  "language_info": {
   "codemirror_mode": {
    "name": "ipython",
    "version": 3
   },
   "file_extension": ".py",
   "mimetype": "text/x-python",
   "name": "python",
   "nbconvert_exporter": "python",
   "pygments_lexer": "ipython3",
   "version": "3.10.8"
  }
 },
 "nbformat": 4,
 "nbformat_minor": 5
}
