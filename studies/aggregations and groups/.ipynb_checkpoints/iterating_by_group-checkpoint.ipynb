{
 "cells": [
  {
   "cell_type": "markdown",
   "id": "a58ae82c-f39d-4cbf-a2ab-7f9a63e78902",
   "metadata": {},
   "source": [
    "# Iterating by group"
   ]
  },
  {
   "cell_type": "code",
   "execution_count": 1,
   "id": "a0b5fcc2-431f-4d3b-a93f-67f54d46b3fa",
   "metadata": {},
   "outputs": [],
   "source": [
    "import pandas as pd\n",
    "import numpy as np"
   ]
  },
  {
   "cell_type": "code",
   "execution_count": 2,
   "id": "2c5b67be-3d28-4d16-8d34-a31073c6c90e",
   "metadata": {},
   "outputs": [],
   "source": [
    "df = pd.DataFrame({'k1': ['a','b','a','a','b'], \n",
    "                   'k2': 'one two one two one'.split(),\n",
    "                   'data1': np.random.randn(5),\n",
    "                   'data2': np.random.randn(5)})"
   ]
  },
  {
   "cell_type": "code",
   "execution_count": 3,
   "id": "83c7fdf6-4e17-4801-93d1-32fa5c10cee7",
   "metadata": {},
   "outputs": [
    {
     "name": "stdout",
     "output_type": "stream",
     "text": [
      "a\n",
      "  k1   k2     data1     data2\n",
      "0  a  one  0.531668 -0.146453\n",
      "2  a  one -0.523527  0.407377\n",
      "3  a  two -1.499152  0.539337\n",
      "b\n",
      "  k1   k2     data1     data2\n",
      "1  b  two -1.325462 -0.122490\n",
      "4  b  one -0.217736  0.164766\n"
     ]
    }
   ],
   "source": [
    "for name, group in df.groupby('k1'):\n",
    "    print(name)\n",
    "    print(group)"
   ]
  },
  {
   "cell_type": "code",
   "execution_count": 4,
   "id": "13bfebf8-2a82-4079-9d22-41555cbdeee1",
   "metadata": {},
   "outputs": [
    {
     "name": "stdout",
     "output_type": "stream",
     "text": [
      "('a', 'one')\n",
      "  k1   k2     data1     data2\n",
      "0  a  one  0.531668 -0.146453\n",
      "2  a  one -0.523527  0.407377\n",
      "('a', 'two')\n",
      "  k1   k2     data1     data2\n",
      "3  a  two -1.499152  0.539337\n",
      "('b', 'one')\n",
      "  k1   k2     data1     data2\n",
      "4  b  one -0.217736  0.164766\n",
      "('b', 'two')\n",
      "  k1   k2     data1    data2\n",
      "1  b  two -1.325462 -0.12249\n"
     ]
    }
   ],
   "source": [
    "for (k1, k2), group in df.groupby(['k1', 'k2']):\n",
    "    print((k1, k2))\n",
    "    print(group)"
   ]
  },
  {
   "cell_type": "code",
   "execution_count": 5,
   "id": "61174391-f2ea-41d8-8c44-3c3c0322162d",
   "metadata": {},
   "outputs": [],
   "source": [
    "pieces = dict(list(df.groupby('k1')))"
   ]
  },
  {
   "cell_type": "code",
   "execution_count": 6,
   "id": "52a042bb-bbe8-478f-9432-7a906b9a796f",
   "metadata": {},
   "outputs": [
    {
     "data": {
      "text/html": [
       "<div>\n",
       "<style scoped>\n",
       "    .dataframe tbody tr th:only-of-type {\n",
       "        vertical-align: middle;\n",
       "    }\n",
       "\n",
       "    .dataframe tbody tr th {\n",
       "        vertical-align: top;\n",
       "    }\n",
       "\n",
       "    .dataframe thead th {\n",
       "        text-align: right;\n",
       "    }\n",
       "</style>\n",
       "<table border=\"1\" class=\"dataframe\">\n",
       "  <thead>\n",
       "    <tr style=\"text-align: right;\">\n",
       "      <th></th>\n",
       "      <th>k1</th>\n",
       "      <th>k2</th>\n",
       "      <th>data1</th>\n",
       "      <th>data2</th>\n",
       "    </tr>\n",
       "  </thead>\n",
       "  <tbody>\n",
       "    <tr>\n",
       "      <th>1</th>\n",
       "      <td>b</td>\n",
       "      <td>two</td>\n",
       "      <td>-1.325462</td>\n",
       "      <td>-0.122490</td>\n",
       "    </tr>\n",
       "    <tr>\n",
       "      <th>4</th>\n",
       "      <td>b</td>\n",
       "      <td>one</td>\n",
       "      <td>-0.217736</td>\n",
       "      <td>0.164766</td>\n",
       "    </tr>\n",
       "  </tbody>\n",
       "</table>\n",
       "</div>"
      ],
      "text/plain": [
       "  k1   k2     data1     data2\n",
       "1  b  two -1.325462 -0.122490\n",
       "4  b  one -0.217736  0.164766"
      ]
     },
     "execution_count": 6,
     "metadata": {},
     "output_type": "execute_result"
    }
   ],
   "source": [
    "pieces['b']"
   ]
  },
  {
   "cell_type": "code",
   "execution_count": 7,
   "id": "4fecdf22-d5fa-4c39-be37-15f3a462e1ab",
   "metadata": {},
   "outputs": [
    {
     "data": {
      "text/plain": [
       "k1        object\n",
       "k2        object\n",
       "data1    float64\n",
       "data2    float64\n",
       "dtype: object"
      ]
     },
     "execution_count": 7,
     "metadata": {},
     "output_type": "execute_result"
    }
   ],
   "source": [
    "df.dtypes"
   ]
  },
  {
   "cell_type": "code",
   "execution_count": 8,
   "id": "e6083f61-a34c-4f4b-80c0-d935d696f292",
   "metadata": {},
   "outputs": [],
   "source": [
    "grouped = df.groupby(df.dtypes, axis=1)"
   ]
  },
  {
   "cell_type": "code",
   "execution_count": 9,
   "id": "8f896979-8b9b-4ea2-90ee-e273fcb0fb27",
   "metadata": {},
   "outputs": [
    {
     "name": "stdout",
     "output_type": "stream",
     "text": [
      "float64\n",
      "      data1     data2\n",
      "0  0.531668 -0.146453\n",
      "1 -1.325462 -0.122490\n",
      "2 -0.523527  0.407377\n",
      "3 -1.499152  0.539337\n",
      "4 -0.217736  0.164766\n",
      "object\n",
      "  k1   k2\n",
      "0  a  one\n",
      "1  b  two\n",
      "2  a  one\n",
      "3  a  two\n",
      "4  b  one\n"
     ]
    }
   ],
   "source": [
    "for dtype, group in grouped:\n",
    "    print(dtype)\n",
    "    print(group)"
   ]
  },
  {
   "cell_type": "markdown",
   "id": "050406a0-13ab-4020-9794-f5cf8833378e",
   "metadata": {},
   "source": [
    "# Selecting a column or subset of columns"
   ]
  },
  {
   "cell_type": "code",
   "execution_count": 12,
   "id": "732712bb-f717-4fc8-8739-64c2eef74a45",
   "metadata": {},
   "outputs": [
    {
     "data": {
      "text/plain": [
       "<pandas.core.groupby.generic.DataFrameGroupBy object at 0x000002307BCF9240>"
      ]
     },
     "execution_count": 12,
     "metadata": {},
     "output_type": "execute_result"
    }
   ],
   "source": [
    "df.groupby('k1')['data1']\n",
    "df.groupby('k1')[['data2']]"
   ]
  },
  {
   "cell_type": "code",
   "execution_count": 13,
   "id": "7592f507-c0e6-4986-b215-f8ce71b024b9",
   "metadata": {},
   "outputs": [
    {
     "data": {
      "text/plain": [
       "<pandas.core.groupby.generic.DataFrameGroupBy object at 0x000002307BCF8BE0>"
      ]
     },
     "execution_count": 13,
     "metadata": {},
     "output_type": "execute_result"
    }
   ],
   "source": [
    "df['data1'].groupby(df['k1'])\n",
    "df[['data2']].groupby(df['k1'])"
   ]
  },
  {
   "cell_type": "code",
   "execution_count": 14,
   "id": "f0302a1a-4602-4f83-aab6-ea16f35500ea",
   "metadata": {},
   "outputs": [
    {
     "data": {
      "text/html": [
       "<div>\n",
       "<style scoped>\n",
       "    .dataframe tbody tr th:only-of-type {\n",
       "        vertical-align: middle;\n",
       "    }\n",
       "\n",
       "    .dataframe tbody tr th {\n",
       "        vertical-align: top;\n",
       "    }\n",
       "\n",
       "    .dataframe thead th {\n",
       "        text-align: right;\n",
       "    }\n",
       "</style>\n",
       "<table border=\"1\" class=\"dataframe\">\n",
       "  <thead>\n",
       "    <tr style=\"text-align: right;\">\n",
       "      <th></th>\n",
       "      <th></th>\n",
       "      <th>data2</th>\n",
       "    </tr>\n",
       "    <tr>\n",
       "      <th>k1</th>\n",
       "      <th>k2</th>\n",
       "      <th></th>\n",
       "    </tr>\n",
       "  </thead>\n",
       "  <tbody>\n",
       "    <tr>\n",
       "      <th rowspan=\"2\" valign=\"top\">a</th>\n",
       "      <th>one</th>\n",
       "      <td>0.130462</td>\n",
       "    </tr>\n",
       "    <tr>\n",
       "      <th>two</th>\n",
       "      <td>0.539337</td>\n",
       "    </tr>\n",
       "    <tr>\n",
       "      <th rowspan=\"2\" valign=\"top\">b</th>\n",
       "      <th>one</th>\n",
       "      <td>0.164766</td>\n",
       "    </tr>\n",
       "    <tr>\n",
       "      <th>two</th>\n",
       "      <td>-0.122490</td>\n",
       "    </tr>\n",
       "  </tbody>\n",
       "</table>\n",
       "</div>"
      ],
      "text/plain": [
       "           data2\n",
       "k1 k2           \n",
       "a  one  0.130462\n",
       "   two  0.539337\n",
       "b  one  0.164766\n",
       "   two -0.122490"
      ]
     },
     "execution_count": 14,
     "metadata": {},
     "output_type": "execute_result"
    }
   ],
   "source": [
    "df.groupby(['k1', 'k2'])[['data2']].mean()"
   ]
  },
  {
   "cell_type": "code",
   "execution_count": 15,
   "id": "8d6d0e7c-c2a3-4aaf-ab3a-503d339e2da6",
   "metadata": {},
   "outputs": [],
   "source": [
    "s_grouped = df.groupby(['k1', 'k2'])['data2']"
   ]
  },
  {
   "cell_type": "code",
   "execution_count": 16,
   "id": "beb67def-600e-4ece-b881-a372d3ac42cc",
   "metadata": {},
   "outputs": [
    {
     "data": {
      "text/plain": [
       "<pandas.core.groupby.generic.SeriesGroupBy object at 0x000002307BDB6B30>"
      ]
     },
     "execution_count": 16,
     "metadata": {},
     "output_type": "execute_result"
    }
   ],
   "source": [
    "s_grouped"
   ]
  },
  {
   "cell_type": "code",
   "execution_count": 17,
   "id": "77b3ed79-2568-4684-a844-809c45f1d3f1",
   "metadata": {},
   "outputs": [
    {
     "data": {
      "text/plain": [
       "k1  k2 \n",
       "a   one    0.130462\n",
       "    two    0.539337\n",
       "b   one    0.164766\n",
       "    two   -0.122490\n",
       "Name: data2, dtype: float64"
      ]
     },
     "execution_count": 17,
     "metadata": {},
     "output_type": "execute_result"
    }
   ],
   "source": [
    "s_grouped.mean()"
   ]
  },
  {
   "cell_type": "code",
   "execution_count": null,
   "id": "0e5d2fe4-b12c-4d73-aa56-d3dedc11b617",
   "metadata": {},
   "outputs": [],
   "source": []
  }
 ],
 "metadata": {
  "kernelspec": {
   "display_name": "Python 3 (ipykernel)",
   "language": "python",
   "name": "python3"
  },
  "language_info": {
   "codemirror_mode": {
    "name": "ipython",
    "version": 3
   },
   "file_extension": ".py",
   "mimetype": "text/x-python",
   "name": "python",
   "nbconvert_exporter": "python",
   "pygments_lexer": "ipython3",
   "version": "3.10.8"
  }
 },
 "nbformat": 4,
 "nbformat_minor": 5
}
