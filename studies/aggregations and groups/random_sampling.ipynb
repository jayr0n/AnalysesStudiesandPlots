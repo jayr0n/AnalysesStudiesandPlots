{
 "cells": [
  {
   "cell_type": "markdown",
   "id": "f756fc4f-43aa-4e36-b85d-57bb146f00e3",
   "metadata": {},
   "source": [
    "# random sampling"
   ]
  },
  {
   "cell_type": "code",
   "execution_count": 1,
   "id": "2a68c7f3-1071-4789-aa7e-a9cf3e47d1a6",
   "metadata": {},
   "outputs": [],
   "source": [
    "import pandas as pd\n",
    "import numpy as np"
   ]
  },
  {
   "cell_type": "code",
   "execution_count": 2,
   "id": "655a02a4-c52a-45f2-b05c-6d4ed7915641",
   "metadata": {},
   "outputs": [],
   "source": [
    "suits = ['H', 'S', 'C', 'D']\n",
    "\n",
    "card_val = (list(range(1,11)) + [10] * 3) * 4\n",
    "base_names = ['A'] + list(range(2, 11)) + ['J', 'K', 'Q']\n",
    "\n",
    "cards = []\n",
    "\n",
    "for suit in ['H', 'S', 'C', 'D']:\n",
    "    cards.extend(str(num) + suit for num in base_names)\n",
    "    \n",
    "deck = pd.Series(card_val, index=cards)"
   ]
  },
  {
   "cell_type": "code",
   "execution_count": 4,
   "id": "376fdca4-8802-42bb-b0c5-6b64ad958eb5",
   "metadata": {},
   "outputs": [
    {
     "data": {
      "text/plain": [
       "AH      1\n",
       "2H      2\n",
       "3H      3\n",
       "4H      4\n",
       "5H      5\n",
       "6H      6\n",
       "7H      7\n",
       "8H      8\n",
       "9H      9\n",
       "10H    10\n",
       "JH     10\n",
       "KH     10\n",
       "QH     10\n",
       "dtype: int64"
      ]
     },
     "execution_count": 4,
     "metadata": {},
     "output_type": "execute_result"
    }
   ],
   "source": [
    "deck[:13]"
   ]
  },
  {
   "cell_type": "code",
   "execution_count": 5,
   "id": "2e1585b4-87fd-4bf9-9d7a-b0ffd6fa1109",
   "metadata": {},
   "outputs": [],
   "source": [
    "def draw(deck, n=5):\n",
    "    return deck.sample(n)"
   ]
  },
  {
   "cell_type": "code",
   "execution_count": 8,
   "id": "15340ba4-18e4-4f8e-b35a-fa428859b5cd",
   "metadata": {},
   "outputs": [
    {
     "data": {
      "text/plain": [
       "10D    10\n",
       "KH     10\n",
       "2H      2\n",
       "5H      5\n",
       "8C      8\n",
       "dtype: int64"
      ]
     },
     "execution_count": 8,
     "metadata": {},
     "output_type": "execute_result"
    }
   ],
   "source": [
    "draw(deck)"
   ]
  },
  {
   "cell_type": "code",
   "execution_count": 9,
   "id": "765b4306-1937-45d7-9944-656a4fbf5a44",
   "metadata": {},
   "outputs": [],
   "source": [
    "get_suit = lambda card: card[-1]"
   ]
  },
  {
   "cell_type": "code",
   "execution_count": 12,
   "id": "07093726-a4b9-4c09-ac53-870db70d314e",
   "metadata": {},
   "outputs": [
    {
     "data": {
      "text/plain": [
       "C  10C    10\n",
       "   JC     10\n",
       "   QC     10\n",
       "D  4D      4\n",
       "   5D      5\n",
       "   8D      8\n",
       "H  3H      3\n",
       "   7H      7\n",
       "   9H      9\n",
       "S  9S      9\n",
       "   2S      2\n",
       "   7S      7\n",
       "dtype: int64"
      ]
     },
     "execution_count": 12,
     "metadata": {},
     "output_type": "execute_result"
    }
   ],
   "source": [
    "deck.groupby(get_suit).apply(draw, 3)"
   ]
  },
  {
   "cell_type": "code",
   "execution_count": 14,
   "id": "d3ba795b-dae5-4e3a-ba8d-52d08f5ca7b9",
   "metadata": {},
   "outputs": [
    {
     "data": {
      "text/plain": [
       "10C    10\n",
       "6C      6\n",
       "7D      7\n",
       "6D      6\n",
       "JH     10\n",
       "6H      6\n",
       "2S      2\n",
       "3S      3\n",
       "dtype: int64"
      ]
     },
     "execution_count": 14,
     "metadata": {},
     "output_type": "execute_result"
    }
   ],
   "source": [
    "deck.groupby(get_suit, group_keys=False).apply(draw, 2)"
   ]
  },
  {
   "cell_type": "code",
   "execution_count": null,
   "id": "a25a4216-a0dd-404f-8b7e-9a2780509833",
   "metadata": {},
   "outputs": [],
   "source": []
  }
 ],
 "metadata": {
  "kernelspec": {
   "display_name": "Python 3 (ipykernel)",
   "language": "python",
   "name": "python3"
  },
  "language_info": {
   "codemirror_mode": {
    "name": "ipython",
    "version": 3
   },
   "file_extension": ".py",
   "mimetype": "text/x-python",
   "name": "python",
   "nbconvert_exporter": "python",
   "pygments_lexer": "ipython3",
   "version": "3.10.12"
  }
 },
 "nbformat": 4,
 "nbformat_minor": 5
}
