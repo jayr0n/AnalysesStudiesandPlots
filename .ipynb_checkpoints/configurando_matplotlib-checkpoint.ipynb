{
 "cells": [
  {
   "cell_type": "markdown",
   "id": "d9003d34-0811-4633-a127-62a79a7ba2c9",
   "metadata": {},
   "source": [
    "# Configuração geral do matplotlib (mudando o default)"
   ]
  },
  {
   "cell_type": "code",
   "execution_count": 4,
   "id": "8c51d630-b75d-4417-b629-9c577efdb585",
   "metadata": {},
   "outputs": [],
   "source": [
    "import matplotlib.pyplot as plt"
   ]
  },
  {
   "cell_type": "code",
   "execution_count": 5,
   "id": "ff3e44ac-249a-417e-8666-168432a95144",
   "metadata": {},
   "outputs": [],
   "source": [
    "# Alterando o padrão do tamanho para todas as figuras\n",
    "plt.rc('figure', figsize=(12,6))"
   ]
  },
  {
   "cell_type": "code",
   "execution_count": 6,
   "id": "b5ad5446-ad5e-4b3b-898e-dc2b3182dbc9",
   "metadata": {},
   "outputs": [],
   "source": [
    "# Alterando o tamanho e cor da fonte\n",
    "font_options = {'family' : 'monospace',\n",
    "                'weight' : 'bold', \n",
    "                'size' : 12}\n",
    "\n",
    "plt.rc('font', **font_options)"
   ]
  },
  {
   "cell_type": "code",
   "execution_count": null,
   "id": "f1e3936d-b8d7-4759-b21a-55cd6b14958b",
   "metadata": {},
   "outputs": [],
   "source": []
  }
 ],
 "metadata": {
  "kernelspec": {
   "display_name": "Python 3 (ipykernel)",
   "language": "python",
   "name": "python3"
  },
  "language_info": {
   "codemirror_mode": {
    "name": "ipython",
    "version": 3
   },
   "file_extension": ".py",
   "mimetype": "text/x-python",
   "name": "python",
   "nbconvert_exporter": "python",
   "pygments_lexer": "ipython3",
   "version": "3.10.8"
  }
 },
 "nbformat": 4,
 "nbformat_minor": 5
}
